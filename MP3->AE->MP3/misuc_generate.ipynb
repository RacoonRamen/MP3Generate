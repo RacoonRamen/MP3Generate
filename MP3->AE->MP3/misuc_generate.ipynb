{
 "cells": [
  {
   "cell_type": "code",
   "execution_count": 1,
   "metadata": {},
   "outputs": [
    {
     "name": "stderr",
     "output_type": "stream",
     "text": [
      "2022-11-25 14:50:58.954395: I tensorflow/core/platform/cpu_feature_guard.cc:193] This TensorFlow binary is optimized with oneAPI Deep Neural Network Library (oneDNN) to use the following CPU instructions in performance-critical operations:  AVX2 FMA\n",
      "To enable them in other operations, rebuild TensorFlow with the appropriate compiler flags.\n",
      "2022-11-25 14:50:59.188924: E tensorflow/stream_executor/cuda/cuda_blas.cc:2981] Unable to register cuBLAS factory: Attempting to register factory for plugin cuBLAS when one has already been registered\n",
      "2022-11-25 14:51:00.140539: W tensorflow/stream_executor/platform/default/dso_loader.cc:64] Could not load dynamic library 'libnvinfer.so.7'; dlerror: libnvinfer.so.7: cannot open shared object file: No such file or directory\n",
      "2022-11-25 14:51:00.140642: W tensorflow/stream_executor/platform/default/dso_loader.cc:64] Could not load dynamic library 'libnvinfer_plugin.so.7'; dlerror: libnvinfer_plugin.so.7: cannot open shared object file: No such file or directory\n",
      "2022-11-25 14:51:00.140654: W tensorflow/compiler/tf2tensorrt/utils/py_utils.cc:38] TF-TRT Warning: Cannot dlopen some TensorRT libraries. If you would like to use Nvidia GPU with TensorRT, please make sure the missing libraries mentioned above are installed properly.\n"
     ]
    }
   ],
   "source": [
    "import numpy as np\n",
    "import matplotlib.pyplot as plt\n",
    "import librosa as lb\n",
    "import pydub as pd\n",
    "import sounddevice as sd\n",
    "import os\n",
    "import random\n",
    "import math\n",
    "import tensorflow as tf\n",
    "from scipy.io.wavfile import write\n",
    "from keras.optimizers import Adam, RMSprop\n",
    "from keras import layers\n",
    "from tensorflow import keras\n",
    "from keras.layers import LSTM, Dense, TimeDistributed, RepeatVector, Flatten, Reshape, BatchNormalization, Bidirectional, AveragePooling1D, Activation, Attention, SimpleRNN, Conv1D, Conv1DTranspose, Conv2D, Conv2DTranspose, UpSampling1D, MaxPooling1D\n",
    "from keras.activations import relu, tanh, linear, softmax, elu\n",
    "from tensorflow.compat.v1.keras.layers import CuDNNLSTM, CuDNNGRU\n",
    "from keras import Sequential, Input\n",
    "from sklearn.model_selection import train_test_split\n",
    "from sklearn.preprocessing import MinMaxScaler\n",
    "import pennylane as qml\n",
    "\n"
   ]
  },
  {
   "cell_type": "code",
   "execution_count": 2,
   "metadata": {},
   "outputs": [
    {
     "name": "stdout",
     "output_type": "stream",
     "text": [
      "Loading Music: Tchaikovsky - Piano Concerto No. 1.mp3\n"
     ]
    },
    {
     "name": "stderr",
     "output_type": "stream",
     "text": [
      "/home/dgx/anaconda3/envs/racooon/lib/python3.8/site-packages/librosa/util/decorators.py:88: UserWarning: PySoundFile failed. Trying audioread instead.\n",
      "  return f(*args, **kwargs)\n"
     ]
    },
    {
     "name": "stdout",
     "output_type": "stream",
     "text": [
      "Finished\n",
      "Loading Music: Daniel_Veesey_-_04_-_Sonata_No_1_in_F_Minor_Op_2_No_1_-_IV_Prestissimo.mp3\n"
     ]
    },
    {
     "name": "stderr",
     "output_type": "stream",
     "text": [
      "/home/dgx/anaconda3/envs/racooon/lib/python3.8/site-packages/librosa/util/decorators.py:88: UserWarning: PySoundFile failed. Trying audioread instead.\n",
      "  return f(*args, **kwargs)\n"
     ]
    },
    {
     "name": "stdout",
     "output_type": "stream",
     "text": [
      "Finished\n",
      "Loading Music: Aaron_Dunn_-_Goldberg_Variations_BWV_988_-_Aria.mp3\n"
     ]
    },
    {
     "name": "stderr",
     "output_type": "stream",
     "text": [
      "/home/dgx/anaconda3/envs/racooon/lib/python3.8/site-packages/librosa/util/decorators.py:88: UserWarning: PySoundFile failed. Trying audioread instead.\n",
      "  return f(*args, **kwargs)\n"
     ]
    },
    {
     "name": "stdout",
     "output_type": "stream",
     "text": [
      "Finished\n",
      "Loading Music: Brendan_Kinsella_-_01_-_Bach_-_Aria_Variata_BWV_989_Variation_no1.mp3\n"
     ]
    },
    {
     "name": "stderr",
     "output_type": "stream",
     "text": [
      "/home/dgx/anaconda3/envs/racooon/lib/python3.8/site-packages/librosa/util/decorators.py:88: UserWarning: PySoundFile failed. Trying audioread instead.\n",
      "  return f(*args, **kwargs)\n"
     ]
    },
    {
     "name": "stdout",
     "output_type": "stream",
     "text": [
      "Finished\n",
      "Loading Music: Daniel_Veesey_-_Sonata_No_22_in_F_Major_Op_54_-_II_Allegretto.mp3\n"
     ]
    },
    {
     "name": "stderr",
     "output_type": "stream",
     "text": [
      "/home/dgx/anaconda3/envs/racooon/lib/python3.8/site-packages/librosa/util/decorators.py:88: UserWarning: PySoundFile failed. Trying audioread instead.\n",
      "  return f(*args, **kwargs)\n"
     ]
    },
    {
     "name": "stdout",
     "output_type": "stream",
     "text": [
      "Finished\n",
      "Loading Music: Brendan_Kinsella_-_Mozart_-_Piano_Sonata_in_B-flat_major_III_Allegretto_Grazioso.mp3\n"
     ]
    },
    {
     "name": "stderr",
     "output_type": "stream",
     "text": [
      "/home/dgx/anaconda3/envs/racooon/lib/python3.8/site-packages/librosa/util/decorators.py:88: UserWarning: PySoundFile failed. Trying audioread instead.\n",
      "  return f(*args, **kwargs)\n"
     ]
    },
    {
     "name": "stdout",
     "output_type": "stream",
     "text": [
      "Finished\n",
      "Loading Music: Daniel_Veesey_-_01_-_Sonata_No_1_in_F_Minor_Op_2_No_1_-_I_Allegro.mp3\n"
     ]
    },
    {
     "name": "stderr",
     "output_type": "stream",
     "text": [
      "/home/dgx/anaconda3/envs/racooon/lib/python3.8/site-packages/librosa/util/decorators.py:88: UserWarning: PySoundFile failed. Trying audioread instead.\n",
      "  return f(*args, **kwargs)\n"
     ]
    },
    {
     "name": "stdout",
     "output_type": "stream",
     "text": [
      "Finished\n",
      "Loading Music: Brendan_Kinsella_-_02_-_Bach_-_Aria_Variata_BVW_989_-_Variation_No_2.mp3\n"
     ]
    },
    {
     "name": "stderr",
     "output_type": "stream",
     "text": [
      "/home/dgx/anaconda3/envs/racooon/lib/python3.8/site-packages/librosa/util/decorators.py:88: UserWarning: PySoundFile failed. Trying audioread instead.\n",
      "  return f(*args, **kwargs)\n"
     ]
    },
    {
     "name": "stdout",
     "output_type": "stream",
     "text": [
      "Finished\n",
      "Loading Music: Daniel_Veesey_-_03_-_Sonata_No_1_in_F_Minor_Op_2_No_1_-_III_Menuetto_Allegretto.mp3\n"
     ]
    },
    {
     "name": "stderr",
     "output_type": "stream",
     "text": [
      "/home/dgx/anaconda3/envs/racooon/lib/python3.8/site-packages/librosa/util/decorators.py:88: UserWarning: PySoundFile failed. Trying audioread instead.\n",
      "  return f(*args, **kwargs)\n"
     ]
    },
    {
     "name": "stdout",
     "output_type": "stream",
     "text": [
      "Finished\n",
      "Loading Music: Tchaikovsky - Romance in F Minor, Op. 5 - Sviatoslav Richter Piano.mp3\n"
     ]
    },
    {
     "name": "stderr",
     "output_type": "stream",
     "text": [
      "/home/dgx/anaconda3/envs/racooon/lib/python3.8/site-packages/librosa/util/decorators.py:88: UserWarning: PySoundFile failed. Trying audioread instead.\n",
      "  return f(*args, **kwargs)\n"
     ]
    },
    {
     "name": "stdout",
     "output_type": "stream",
     "text": [
      "Finished\n",
      "Loading Music: ▓Ўе╛пS(MOZART)-дpмPмP┼▄л╡ж▒.mp3\n"
     ]
    },
    {
     "name": "stderr",
     "output_type": "stream",
     "text": [
      "/home/dgx/anaconda3/envs/racooon/lib/python3.8/site-packages/librosa/util/decorators.py:88: UserWarning: PySoundFile failed. Trying audioread instead.\n",
      "  return f(*args, **kwargs)\n"
     ]
    },
    {
     "name": "stdout",
     "output_type": "stream",
     "text": [
      "Finished\n",
      "Loading Music: Tchaikovsky бV Swan Lake.mp3\n"
     ]
    },
    {
     "name": "stderr",
     "output_type": "stream",
     "text": [
      "/home/dgx/anaconda3/envs/racooon/lib/python3.8/site-packages/librosa/util/decorators.py:88: UserWarning: PySoundFile failed. Trying audioread instead.\n",
      "  return f(*args, **kwargs)\n"
     ]
    },
    {
     "name": "stdout",
     "output_type": "stream",
     "text": [
      "Finished\n",
      "Loading Music: Brendan_Kinsella_-_03_-_Bach_-_Aria_Variata_BVW_989_-_Variation_No_3.mp3\n"
     ]
    },
    {
     "name": "stderr",
     "output_type": "stream",
     "text": [
      "/home/dgx/anaconda3/envs/racooon/lib/python3.8/site-packages/librosa/util/decorators.py:88: UserWarning: PySoundFile failed. Trying audioread instead.\n",
      "  return f(*args, **kwargs)\n"
     ]
    },
    {
     "name": "stdout",
     "output_type": "stream",
     "text": [
      "Finished\n",
      "Loading Music: Brendan_Kinsella_-_Mozart_-_Sonata_No_13_In_B_Flat_Major_K333_-_II_Andante_Cantabile.mp3\n"
     ]
    },
    {
     "name": "stderr",
     "output_type": "stream",
     "text": [
      "/home/dgx/anaconda3/envs/racooon/lib/python3.8/site-packages/librosa/util/decorators.py:88: UserWarning: PySoundFile failed. Trying audioread instead.\n",
      "  return f(*args, **kwargs)\n"
     ]
    },
    {
     "name": "stdout",
     "output_type": "stream",
     "text": [
      "Finished\n",
      "Loading Music: Piano-Concerto-no.-21-in-C-major-K.-467-II.-Andante.mp3\n"
     ]
    },
    {
     "name": "stderr",
     "output_type": "stream",
     "text": [
      "/home/dgx/anaconda3/envs/racooon/lib/python3.8/site-packages/librosa/util/decorators.py:88: UserWarning: PySoundFile failed. Trying audioread instead.\n",
      "  return f(*args, **kwargs)\n"
     ]
    },
    {
     "name": "stdout",
     "output_type": "stream",
     "text": [
      "Finished\n",
      "Loading Music: Tchaikovsky - Waltz of the Flowers (The Nutcracker Suite).mp3\n"
     ]
    },
    {
     "name": "stderr",
     "output_type": "stream",
     "text": [
      "/home/dgx/anaconda3/envs/racooon/lib/python3.8/site-packages/librosa/util/decorators.py:88: UserWarning: PySoundFile failed. Trying audioread instead.\n",
      "  return f(*args, **kwargs)\n"
     ]
    },
    {
     "name": "stdout",
     "output_type": "stream",
     "text": [
      "Finished\n",
      "Loading Music: Mozart Piano Sonata No 16 C major K 545 Barenboim.mp3\n"
     ]
    },
    {
     "name": "stderr",
     "output_type": "stream",
     "text": [
      "/home/dgx/anaconda3/envs/racooon/lib/python3.8/site-packages/librosa/util/decorators.py:88: UserWarning: PySoundFile failed. Trying audioread instead.\n",
      "  return f(*args, **kwargs)\n"
     ]
    },
    {
     "name": "stdout",
     "output_type": "stream",
     "text": [
      "Finished\n",
      "Loading Music: Karine_Gilanyan_-_Beethoven_-_Piano_Sonata_nr15_in_D_major_op28_Pastoral_-_III_Scherzo_Allegro_Vivace.mp3\n"
     ]
    },
    {
     "name": "stderr",
     "output_type": "stream",
     "text": [
      "/home/dgx/anaconda3/envs/racooon/lib/python3.8/site-packages/librosa/util/decorators.py:88: UserWarning: PySoundFile failed. Trying audioread instead.\n",
      "  return f(*args, **kwargs)\n"
     ]
    },
    {
     "name": "stdout",
     "output_type": "stream",
     "text": [
      "Finished\n",
      "Loading Music: Tchaikovsky - Dance of the Sugar Plum Fairy (The Nutcracker Suite).mp3\n"
     ]
    },
    {
     "name": "stderr",
     "output_type": "stream",
     "text": [
      "/home/dgx/anaconda3/envs/racooon/lib/python3.8/site-packages/librosa/util/decorators.py:88: UserWarning: PySoundFile failed. Trying audioread instead.\n",
      "  return f(*args, **kwargs)\n"
     ]
    },
    {
     "name": "stdout",
     "output_type": "stream",
     "text": [
      "Finished\n",
      "Loading Music: Carlos_Gardels_-_01_-_Bach_-_Book_I_Prelude_and_Fugue_No_8_in_E_Flat_Minor_BWV_853_Prelude.mp3\n"
     ]
    },
    {
     "name": "stderr",
     "output_type": "stream",
     "text": [
      "/home/dgx/anaconda3/envs/racooon/lib/python3.8/site-packages/librosa/util/decorators.py:88: UserWarning: PySoundFile failed. Trying audioread instead.\n",
      "  return f(*args, **kwargs)\n"
     ]
    },
    {
     "name": "stdout",
     "output_type": "stream",
     "text": [
      "Finished\n"
     ]
    }
   ],
   "source": [
    "path = r'/home/dgx/Desktop/racoon/music_generate/music001'\n",
    "music = []\n",
    "music_list = os.listdir(path=path)\n",
    "for num in range(len(os.listdir(path=path))):\n",
    "    print('Loading Music:', music_list[num])\n",
    "    music.append(lb.load(os.path.join(path, music_list[num])))\n",
    "    print('Finished')"
   ]
  },
  {
   "cell_type": "code",
   "execution_count": 3,
   "metadata": {},
   "outputs": [],
   "source": [
    "class music_process:\n",
    "    def __init__():\n",
    "        super.__init__()\n",
    "    def ran_music_seq(data, sec, ff=22050):\n",
    "        sequence = sec*ff\n",
    "        start = random.randint(0, (len(data[0])-sequence))\n",
    "        result = []\n",
    "        for lent in range(sequence):\n",
    "          result.append(data[0][start])\n",
    "          start+=1\n",
    "        return result\n",
    "    def half_samplerate(data):\n",
    "        result = []\n",
    "        for num in range(len(data)):\n",
    "            if num%2==0:\n",
    "                result.append(data[num])\n",
    "        return result\n",
    "    def double_samplerate(data):\n",
    "        result = []\n",
    "        for num in range(len(data)):\n",
    "            result.append(data[num])\n",
    "            result.append(data[num])\n",
    "        return result\n",
    "    def normalize_freq(data, sample_rate):\n",
    "        normal_result = []\n",
    "        for dot in data:\n",
    "            normal_result.append(dot/sample_rate)\n",
    "        return normal_result\n",
    "\n",
    "\n"
   ]
  },
  {
   "cell_type": "code",
   "execution_count": 4,
   "metadata": {},
   "outputs": [],
   "source": [
    "# 20sec 22050\n",
    "train_data = []\n",
    "for i in range(len(music)):\n",
    "    for num in range(50):\n",
    "        train_data.append(music_process.ran_music_seq(music[i], 20))"
   ]
  },
  {
   "cell_type": "code",
   "execution_count": 5,
   "metadata": {},
   "outputs": [],
   "source": [
    "# scaler = MinMaxScaler().fit(train_data)\n",
    "# train_data = scaler.transform(train_data)\n"
   ]
  },
  {
   "cell_type": "code",
   "execution_count": null,
   "metadata": {},
   "outputs": [],
   "source": [
    "sample_rate = 22050\n",
    "sample_sec = 20\n",
    "metr = 'mae', 'msle', 'mape'\n",
    "data_train = np.array(train_data)\n",
    "train, test = train_test_split(data_train, train_size = 0.8)\n",
    "train = np.reshape(train, (train.shape[0] ,sample_sec, sample_rate))"
   ]
  },
  {
   "cell_type": "code",
   "execution_count": 64,
   "metadata": {},
   "outputs": [
    {
     "name": "stdout",
     "output_type": "stream",
     "text": [
      "INFO:tensorflow:Using MirroredStrategy with devices ('/job:localhost/replica:0/task:0/device:GPU:0', '/job:localhost/replica:0/task:0/device:GPU:1', '/job:localhost/replica:0/task:0/device:GPU:2', '/job:localhost/replica:0/task:0/device:GPU:3')\n"
     ]
    },
    {
     "name": "stderr",
     "output_type": "stream",
     "text": [
      "INFO:tensorflow:Using MirroredStrategy with devices ('/job:localhost/replica:0/task:0/device:GPU:0', '/job:localhost/replica:0/task:0/device:GPU:1', '/job:localhost/replica:0/task:0/device:GPU:2', '/job:localhost/replica:0/task:0/device:GPU:3')\n"
     ]
    },
    {
     "name": "stdout",
     "output_type": "stream",
     "text": [
      "Epoch 1/2000\n",
      "4/4 [==============================] - 46s 369ms/step - loss: 0.4905 - mae: 0.4905 - msle: 0.1439 - mape: 70386.6641\n",
      "Epoch 2/2000\n",
      "4/4 [==============================] - 1s 369ms/step - loss: 0.4346 - mae: 0.4346 - msle: 0.1191 - mape: 88702.7500\n",
      "Epoch 3/2000\n",
      "4/4 [==============================] - 1s 375ms/step - loss: 0.2802 - mae: 0.2802 - msle: 0.0594 - mape: 200038.8438\n",
      "Epoch 4/2000\n",
      "4/4 [==============================] - 1s 384ms/step - loss: 0.1575 - mae: 0.1575 - msle: 0.0186 - mape: 463785.5000\n",
      "Epoch 5/2000\n",
      "4/4 [==============================] - 1s 363ms/step - loss: 0.1478 - mae: 0.1478 - msle: 0.0138 - mape: 574281.6250\n",
      "Epoch 6/2000\n",
      "4/4 [==============================] - 1s 333ms/step - loss: 0.1086 - mae: 0.1086 - msle: 0.0086 - mape: 528108.9375\n",
      "Epoch 7/2000\n",
      "4/4 [==============================] - 1s 336ms/step - loss: 0.0967 - mae: 0.0967 - msle: 0.0071 - mape: 436642.1875\n",
      "Epoch 8/2000\n",
      "4/4 [==============================] - 1s 384ms/step - loss: 0.0873 - mae: 0.0873 - msle: 0.0060 - mape: 447402.6250\n",
      "Epoch 9/2000\n",
      "4/4 [==============================] - 1s 379ms/step - loss: 0.0841 - mae: 0.0841 - msle: 0.0057 - mape: 492132.4062\n",
      "Epoch 10/2000\n",
      "4/4 [==============================] - 1s 379ms/step - loss: 0.0836 - mae: 0.0836 - msle: 0.0057 - mape: 496449.3438\n",
      "Epoch 11/2000\n",
      "4/4 [==============================] - 1s 363ms/step - loss: 0.0800 - mae: 0.0800 - msle: 0.0053 - mape: 473271.7500\n",
      "Epoch 12/2000\n",
      "4/4 [==============================] - 2s 385ms/step - loss: 0.0792 - mae: 0.0792 - msle: 0.0052 - mape: 463939.8438\n",
      "Epoch 13/2000\n",
      "4/4 [==============================] - 2s 407ms/step - loss: 0.0781 - mae: 0.0781 - msle: 0.0051 - mape: 476444.3750\n",
      "Epoch 14/2000\n",
      "4/4 [==============================] - 1s 350ms/step - loss: 0.0777 - mae: 0.0777 - msle: 0.0051 - mape: 481543.5625\n",
      "Epoch 15/2000\n",
      "4/4 [==============================] - 2s 379ms/step - loss: 0.0771 - mae: 0.0771 - msle: 0.0050 - mape: 473964.2812\n",
      "Epoch 16/2000\n",
      "4/4 [==============================] - 2s 386ms/step - loss: 0.0768 - mae: 0.0768 - msle: 0.0050 - mape: 471775.8750\n",
      "Epoch 17/2000\n",
      "4/4 [==============================] - 1s 371ms/step - loss: 0.0765 - mae: 0.0765 - msle: 0.0050 - mape: 476403.1562\n",
      "Epoch 18/2000\n",
      "4/4 [==============================] - 2s 397ms/step - loss: 0.0762 - mae: 0.0762 - msle: 0.0050 - mape: 476880.8125\n",
      "Epoch 19/2000\n",
      "4/4 [==============================] - 1s 363ms/step - loss: 0.0760 - mae: 0.0760 - msle: 0.0049 - mape: 473962.3750\n",
      "Epoch 20/2000\n",
      "4/4 [==============================] - 1s 365ms/step - loss: 0.0758 - mae: 0.0758 - msle: 0.0049 - mape: 474904.5000\n",
      "Epoch 21/2000\n",
      "4/4 [==============================] - 1s 368ms/step - loss: 0.0756 - mae: 0.0756 - msle: 0.0049 - mape: 476030.2812\n",
      "Epoch 22/2000\n",
      "4/4 [==============================] - 1s 360ms/step - loss: 0.0754 - mae: 0.0754 - msle: 0.0049 - mape: 474738.3125\n",
      "Epoch 23/2000\n",
      "4/4 [==============================] - 1s 319ms/step - loss: 0.0752 - mae: 0.0752 - msle: 0.0049 - mape: 474696.5000\n",
      "Epoch 24/2000\n",
      "4/4 [==============================] - 1s 333ms/step - loss: 0.0750 - mae: 0.0750 - msle: 0.0049 - mape: 475490.0938\n",
      "Epoch 25/2000\n",
      "4/4 [==============================] - 2s 371ms/step - loss: 0.0748 - mae: 0.0748 - msle: 0.0049 - mape: 475033.5625\n",
      "Epoch 26/2000\n",
      "4/4 [==============================] - 1s 358ms/step - loss: 0.0746 - mae: 0.0746 - msle: 0.0048 - mape: 474927.9375\n",
      "Epoch 27/2000\n",
      "4/4 [==============================] - 1s 376ms/step - loss: 0.0745 - mae: 0.0745 - msle: 0.0048 - mape: 475203.0000\n",
      "Epoch 28/2000\n",
      "4/4 [==============================] - 1s 362ms/step - loss: 0.0743 - mae: 0.0743 - msle: 0.0048 - mape: 475046.2500\n",
      "Epoch 29/2000\n",
      "4/4 [==============================] - 1s 372ms/step - loss: 0.0741 - mae: 0.0741 - msle: 0.0048 - mape: 475021.9062\n",
      "Epoch 30/2000\n",
      "4/4 [==============================] - 2s 401ms/step - loss: 0.0739 - mae: 0.0739 - msle: 0.0048 - mape: 475129.9688\n",
      "Epoch 31/2000\n",
      "4/4 [==============================] - 1s 373ms/step - loss: 0.0737 - mae: 0.0737 - msle: 0.0048 - mape: 475044.9062\n",
      "Epoch 32/2000\n",
      "4/4 [==============================] - 1s 356ms/step - loss: 0.0735 - mae: 0.0735 - msle: 0.0048 - mape: 475051.5938\n",
      "Epoch 33/2000\n",
      "4/4 [==============================] - 1s 331ms/step - loss: 0.0733 - mae: 0.0733 - msle: 0.0047 - mape: 475077.8750\n",
      "Epoch 34/2000\n",
      "4/4 [==============================] - 1s 349ms/step - loss: 0.0731 - mae: 0.0731 - msle: 0.0047 - mape: 475076.5000\n",
      "Epoch 35/2000\n",
      "4/4 [==============================] - 1s 319ms/step - loss: 0.0728 - mae: 0.0728 - msle: 0.0047 - mape: 475101.3750\n",
      "Epoch 36/2000\n",
      "4/4 [==============================] - 2s 388ms/step - loss: 0.0726 - mae: 0.0726 - msle: 0.0047 - mape: 475125.8750\n",
      "Epoch 37/2000\n",
      "4/4 [==============================] - 1s 381ms/step - loss: 0.0724 - mae: 0.0724 - msle: 0.0047 - mape: 475121.4062\n",
      "Epoch 38/2000\n",
      "4/4 [==============================] - 1s 373ms/step - loss: 0.0721 - mae: 0.0721 - msle: 0.0046 - mape: 475124.5000\n",
      "Epoch 39/2000\n",
      "4/4 [==============================] - 1s 387ms/step - loss: 0.0719 - mae: 0.0719 - msle: 0.0046 - mape: 475143.7500\n",
      "Epoch 40/2000\n",
      "4/4 [==============================] - 1s 364ms/step - loss: 0.0716 - mae: 0.0716 - msle: 0.0046 - mape: 475117.9688\n",
      "Epoch 41/2000\n",
      "4/4 [==============================] - 1s 367ms/step - loss: 0.0714 - mae: 0.0714 - msle: 0.0046 - mape: 475180.5938\n",
      "Epoch 42/2000\n",
      "4/4 [==============================] - 1s 370ms/step - loss: 0.0711 - mae: 0.0711 - msle: 0.0046 - mape: 475115.8438\n",
      "Epoch 43/2000\n",
      "4/4 [==============================] - 1s 360ms/step - loss: 0.0708 - mae: 0.0708 - msle: 0.0045 - mape: 475196.6875\n",
      "Epoch 44/2000\n",
      "4/4 [==============================] - 1s 386ms/step - loss: 0.0706 - mae: 0.0706 - msle: 0.0045 - mape: 475191.6875\n",
      "Epoch 45/2000\n",
      "4/4 [==============================] - 1s 327ms/step - loss: 0.0703 - mae: 0.0703 - msle: 0.0045 - mape: 475168.3125\n",
      "Epoch 46/2000\n",
      "4/4 [==============================] - 1s 324ms/step - loss: 0.0701 - mae: 0.0701 - msle: 0.0045 - mape: 475245.8125\n",
      "Epoch 47/2000\n",
      "4/4 [==============================] - 2s 386ms/step - loss: 0.0699 - mae: 0.0699 - msle: 0.0044 - mape: 475155.0938\n",
      "Epoch 48/2000\n",
      "4/4 [==============================] - 1s 387ms/step - loss: 0.0697 - mae: 0.0697 - msle: 0.0044 - mape: 475243.1250\n",
      "Epoch 49/2000\n",
      "4/4 [==============================] - 2s 403ms/step - loss: 0.0695 - mae: 0.0695 - msle: 0.0044 - mape: 475225.4375\n",
      "Epoch 50/2000\n",
      "4/4 [==============================] - 1s 354ms/step - loss: 0.0693 - mae: 0.0693 - msle: 0.0044 - mape: 475202.1875\n",
      "Epoch 51/2000\n",
      "4/4 [==============================] - 1s 358ms/step - loss: 0.0692 - mae: 0.0692 - msle: 0.0044 - mape: 475203.1875\n",
      "Epoch 52/2000\n",
      "4/4 [==============================] - 2s 427ms/step - loss: 0.0691 - mae: 0.0691 - msle: 0.0044 - mape: 475163.1875\n",
      "Epoch 53/2000\n",
      "4/4 [==============================] - 1s 375ms/step - loss: 0.0690 - mae: 0.0690 - msle: 0.0043 - mape: 475128.4375\n",
      "Epoch 54/2000\n",
      "4/4 [==============================] - 1s 374ms/step - loss: 0.0690 - mae: 0.0690 - msle: 0.0043 - mape: 475159.0938\n",
      "Epoch 55/2000\n",
      "4/4 [==============================] - 2s 391ms/step - loss: 0.0689 - mae: 0.0689 - msle: 0.0043 - mape: 475076.3125\n",
      "Epoch 56/2000\n",
      "4/4 [==============================] - 1s 312ms/step - loss: 0.0688 - mae: 0.0688 - msle: 0.0043 - mape: 475114.5625\n",
      "Epoch 57/2000\n",
      "4/4 [==============================] - 1s 328ms/step - loss: 0.0688 - mae: 0.0688 - msle: 0.0043 - mape: 475031.3750\n",
      "Epoch 58/2000\n",
      "4/4 [==============================] - 1s 353ms/step - loss: 0.0688 - mae: 0.0688 - msle: 0.0043 - mape: 475045.0938\n",
      "Epoch 59/2000\n",
      "4/4 [==============================] - 1s 309ms/step - loss: 0.0687 - mae: 0.0687 - msle: 0.0043 - mape: 475050.3750\n",
      "Epoch 60/2000\n",
      "4/4 [==============================] - 2s 385ms/step - loss: 0.0687 - mae: 0.0687 - msle: 0.0043 - mape: 475010.2188\n",
      "Epoch 61/2000\n",
      "4/4 [==============================] - 1s 385ms/step - loss: 0.0687 - mae: 0.0687 - msle: 0.0043 - mape: 474975.3750\n",
      "Epoch 62/2000\n",
      "4/4 [==============================] - 2s 399ms/step - loss: 0.0687 - mae: 0.0687 - msle: 0.0043 - mape: 475054.9688\n",
      "Epoch 63/2000\n",
      "4/4 [==============================] - 1s 371ms/step - loss: 0.0687 - mae: 0.0687 - msle: 0.0043 - mape: 474899.7812\n",
      "Epoch 64/2000\n",
      "4/4 [==============================] - 1s 371ms/step - loss: 0.0686 - mae: 0.0686 - msle: 0.0043 - mape: 475040.7812\n",
      "Epoch 65/2000\n",
      "4/4 [==============================] - 2s 390ms/step - loss: 0.0686 - mae: 0.0686 - msle: 0.0043 - mape: 474952.4375\n",
      "Epoch 66/2000\n",
      "4/4 [==============================] - 2s 410ms/step - loss: 0.0686 - mae: 0.0686 - msle: 0.0043 - mape: 474959.7188\n",
      "Epoch 67/2000\n",
      "4/4 [==============================] - 1s 330ms/step - loss: 0.0686 - mae: 0.0686 - msle: 0.0043 - mape: 474944.0312\n",
      "Epoch 68/2000\n",
      "4/4 [==============================] - 1s 349ms/step - loss: 0.0686 - mae: 0.0686 - msle: 0.0043 - mape: 474963.7188\n",
      "Epoch 69/2000\n",
      "4/4 [==============================] - 1s 328ms/step - loss: 0.0686 - mae: 0.0686 - msle: 0.0043 - mape: 474957.0312\n",
      "Epoch 70/2000\n",
      "4/4 [==============================] - 1s 372ms/step - loss: 0.0686 - mae: 0.0686 - msle: 0.0043 - mape: 474952.6250\n",
      "Epoch 71/2000\n",
      "4/4 [==============================] - 1s 338ms/step - loss: 0.0686 - mae: 0.0686 - msle: 0.0043 - mape: 474907.7500\n",
      "Epoch 72/2000\n",
      "4/4 [==============================] - 1s 363ms/step - loss: 0.0686 - mae: 0.0686 - msle: 0.0043 - mape: 474944.5312\n",
      "Epoch 73/2000\n",
      "4/4 [==============================] - 2s 428ms/step - loss: 0.0686 - mae: 0.0686 - msle: 0.0043 - mape: 474881.6562\n",
      "Epoch 74/2000\n",
      "4/4 [==============================] - 2s 393ms/step - loss: 0.0686 - mae: 0.0686 - msle: 0.0043 - mape: 474975.8125\n",
      "Epoch 75/2000\n",
      "4/4 [==============================] - 1s 343ms/step - loss: 0.0686 - mae: 0.0686 - msle: 0.0043 - mape: 474901.0000\n",
      "Epoch 76/2000\n",
      "4/4 [==============================] - 2s 390ms/step - loss: 0.0686 - mae: 0.0686 - msle: 0.0043 - mape: 474902.4062\n",
      "Epoch 77/2000\n",
      "4/4 [==============================] - 1s 366ms/step - loss: 0.0686 - mae: 0.0686 - msle: 0.0043 - mape: 474935.7500\n",
      "Epoch 78/2000\n",
      "4/4 [==============================] - 1s 316ms/step - loss: 0.0686 - mae: 0.0686 - msle: 0.0043 - mape: 474870.9062\n",
      "Epoch 79/2000\n",
      "4/4 [==============================] - 1s 321ms/step - loss: 0.0686 - mae: 0.0686 - msle: 0.0043 - mape: 474950.5625\n",
      "Epoch 80/2000\n",
      "4/4 [==============================] - 1s 313ms/step - loss: 0.0686 - mae: 0.0686 - msle: 0.0043 - mape: 474885.6875\n",
      "Epoch 81/2000\n",
      "4/4 [==============================] - 1s 316ms/step - loss: 0.0686 - mae: 0.0686 - msle: 0.0043 - mape: 474959.0625\n",
      "Epoch 82/2000\n",
      "4/4 [==============================] - 1s 314ms/step - loss: 0.0686 - mae: 0.0686 - msle: 0.0043 - mape: 474855.4062\n",
      "Epoch 83/2000\n",
      "4/4 [==============================] - 2s 408ms/step - loss: 0.0686 - mae: 0.0686 - msle: 0.0043 - mape: 474927.1250\n",
      "Epoch 84/2000\n",
      "4/4 [==============================] - 1s 361ms/step - loss: 0.0686 - mae: 0.0686 - msle: 0.0043 - mape: 474887.1250\n",
      "Epoch 85/2000\n",
      "4/4 [==============================] - 2s 376ms/step - loss: 0.0686 - mae: 0.0686 - msle: 0.0043 - mape: 474904.8438\n",
      "Epoch 86/2000\n",
      "4/4 [==============================] - 1s 374ms/step - loss: 0.0686 - mae: 0.0686 - msle: 0.0043 - mape: 474840.7812\n",
      "Epoch 87/2000\n",
      "4/4 [==============================] - 2s 405ms/step - loss: 0.0686 - mae: 0.0686 - msle: 0.0043 - mape: 474937.4688\n",
      "Epoch 88/2000\n",
      "4/4 [==============================] - 1s 366ms/step - loss: 0.0686 - mae: 0.0686 - msle: 0.0043 - mape: 474853.5000\n",
      "Epoch 89/2000\n",
      "4/4 [==============================] - 1s 356ms/step - loss: 0.0686 - mae: 0.0686 - msle: 0.0043 - mape: 474904.4062\n",
      "Epoch 90/2000\n",
      "4/4 [==============================] - 1s 366ms/step - loss: 0.0686 - mae: 0.0686 - msle: 0.0043 - mape: 474871.6875\n",
      "Epoch 91/2000\n",
      "4/4 [==============================] - 1s 354ms/step - loss: 0.0686 - mae: 0.0686 - msle: 0.0043 - mape: 474901.3438\n",
      "Epoch 92/2000\n",
      "4/4 [==============================] - 1s 328ms/step - loss: 0.0686 - mae: 0.0686 - msle: 0.0043 - mape: 474867.4062\n",
      "Epoch 93/2000\n",
      "4/4 [==============================] - 1s 335ms/step - loss: 0.0686 - mae: 0.0686 - msle: 0.0043 - mape: 474900.1562\n",
      "Epoch 94/2000\n",
      "4/4 [==============================] - 1s 327ms/step - loss: 0.0686 - mae: 0.0686 - msle: 0.0043 - mape: 474816.6875\n",
      "Epoch 95/2000\n",
      "4/4 [==============================] - 1s 328ms/step - loss: 0.0686 - mae: 0.0686 - msle: 0.0043 - mape: 474939.6562\n",
      "Epoch 96/2000\n",
      "4/4 [==============================] - 1s 358ms/step - loss: 0.0686 - mae: 0.0686 - msle: 0.0043 - mape: 474842.2812\n",
      "Epoch 97/2000\n",
      "4/4 [==============================] - 1s 342ms/step - loss: 0.0686 - mae: 0.0686 - msle: 0.0043 - mape: 474888.1250\n",
      "Epoch 98/2000\n",
      "4/4 [==============================] - 1s 348ms/step - loss: 0.0686 - mae: 0.0686 - msle: 0.0043 - mape: 474885.2500\n",
      "Epoch 99/2000\n",
      "4/4 [==============================] - 1s 346ms/step - loss: 0.0686 - mae: 0.0686 - msle: 0.0043 - mape: 474861.4062\n",
      "Epoch 100/2000\n",
      "4/4 [==============================] - 1s 366ms/step - loss: 0.0686 - mae: 0.0686 - msle: 0.0043 - mape: 474912.1875\n",
      "Epoch 101/2000\n",
      "4/4 [==============================] - 1s 390ms/step - loss: 0.0686 - mae: 0.0686 - msle: 0.0043 - mape: 474809.4688\n",
      "Epoch 102/2000\n",
      "4/4 [==============================] - 1s 371ms/step - loss: 0.0686 - mae: 0.0686 - msle: 0.0043 - mape: 474891.6250\n",
      "Epoch 103/2000\n",
      "4/4 [==============================] - 1s 361ms/step - loss: 0.0686 - mae: 0.0686 - msle: 0.0043 - mape: 474863.6250\n",
      "Epoch 104/2000\n",
      "4/4 [==============================] - 1s 371ms/step - loss: 0.0686 - mae: 0.0686 - msle: 0.0043 - mape: 474915.3125\n",
      "Epoch 105/2000\n",
      "4/4 [==============================] - 1s 376ms/step - loss: 0.0686 - mae: 0.0686 - msle: 0.0043 - mape: 474775.5000\n",
      "Epoch 106/2000\n",
      "4/4 [==============================] - 1s 349ms/step - loss: 0.0686 - mae: 0.0686 - msle: 0.0043 - mape: 474941.0312\n",
      "Epoch 107/2000\n",
      "4/4 [==============================] - 1s 364ms/step - loss: 0.0686 - mae: 0.0686 - msle: 0.0043 - mape: 474861.3125\n",
      "Epoch 108/2000\n",
      "4/4 [==============================] - 1s 326ms/step - loss: 0.0686 - mae: 0.0686 - msle: 0.0043 - mape: 474856.8125\n",
      "Epoch 109/2000\n",
      "4/4 [==============================] - 2s 351ms/step - loss: 0.0686 - mae: 0.0686 - msle: 0.0043 - mape: 474878.4688\n",
      "Epoch 110/2000\n",
      "4/4 [==============================] - 2s 407ms/step - loss: 0.0686 - mae: 0.0686 - msle: 0.0043 - mape: 474862.5938\n",
      "Epoch 111/2000\n",
      "4/4 [==============================] - 1s 355ms/step - loss: 0.0686 - mae: 0.0686 - msle: 0.0043 - mape: 474869.7188\n",
      "Epoch 112/2000\n",
      "4/4 [==============================] - 1s 349ms/step - loss: 0.0686 - mae: 0.0686 - msle: 0.0043 - mape: 474866.2812\n",
      "Epoch 113/2000\n",
      "4/4 [==============================] - 1s 372ms/step - loss: 0.0686 - mae: 0.0686 - msle: 0.0043 - mape: 474848.2188\n",
      "Epoch 114/2000\n",
      "4/4 [==============================] - 1s 364ms/step - loss: 0.0686 - mae: 0.0686 - msle: 0.0043 - mape: 474901.6562\n",
      "Epoch 115/2000\n",
      "4/4 [==============================] - 1s 356ms/step - loss: 0.0686 - mae: 0.0686 - msle: 0.0043 - mape: 474846.1562\n",
      "Epoch 116/2000\n",
      "4/4 [==============================] - 1s 344ms/step - loss: 0.0686 - mae: 0.0686 - msle: 0.0043 - mape: 474908.0000\n",
      "Epoch 117/2000\n",
      "4/4 [==============================] - 1s 362ms/step - loss: 0.0686 - mae: 0.0686 - msle: 0.0043 - mape: 474864.4375\n",
      "Epoch 118/2000\n",
      "4/4 [==============================] - 1s 372ms/step - loss: 0.0686 - mae: 0.0686 - msle: 0.0043 - mape: 474819.0625\n",
      "Epoch 119/2000\n",
      "4/4 [==============================] - 1s 363ms/step - loss: 0.0686 - mae: 0.0686 - msle: 0.0043 - mape: 474894.0938\n",
      "Epoch 120/2000\n",
      "4/4 [==============================] - 1s 367ms/step - loss: 0.0686 - mae: 0.0686 - msle: 0.0043 - mape: 474854.4375\n",
      "Epoch 121/2000\n",
      "4/4 [==============================] - 1s 359ms/step - loss: 0.0686 - mae: 0.0686 - msle: 0.0043 - mape: 474836.7188\n",
      "Epoch 122/2000\n",
      "4/4 [==============================] - 1s 333ms/step - loss: 0.0686 - mae: 0.0686 - msle: 0.0043 - mape: 474899.0000\n",
      "Epoch 123/2000\n",
      "4/4 [==============================] - 1s 368ms/step - loss: 0.0686 - mae: 0.0686 - msle: 0.0043 - mape: 474841.5625\n",
      "Epoch 124/2000\n",
      "4/4 [==============================] - 1s 363ms/step - loss: 0.0686 - mae: 0.0686 - msle: 0.0043 - mape: 474840.0938\n",
      "Epoch 125/2000\n",
      "4/4 [==============================] - 1s 320ms/step - loss: 0.0686 - mae: 0.0686 - msle: 0.0043 - mape: 474826.8750\n",
      "Epoch 126/2000\n",
      "4/4 [==============================] - 2s 348ms/step - loss: 0.0686 - mae: 0.0686 - msle: 0.0043 - mape: 474888.0938\n",
      "Epoch 127/2000\n",
      "4/4 [==============================] - 1s 306ms/step - loss: 0.0686 - mae: 0.0686 - msle: 0.0043 - mape: 474851.3125\n",
      "Epoch 128/2000\n",
      "4/4 [==============================] - 1s 313ms/step - loss: 0.0686 - mae: 0.0686 - msle: 0.0043 - mape: 474849.4688\n",
      "Epoch 129/2000\n",
      "4/4 [==============================] - 1s 330ms/step - loss: 0.0686 - mae: 0.0686 - msle: 0.0043 - mape: 474833.5938\n",
      "Epoch 130/2000\n",
      "4/4 [==============================] - 2s 382ms/step - loss: 0.0686 - mae: 0.0686 - msle: 0.0043 - mape: 474874.1250\n",
      "Epoch 131/2000\n",
      "4/4 [==============================] - 1s 377ms/step - loss: 0.0686 - mae: 0.0686 - msle: 0.0043 - mape: 474864.5625\n",
      "Epoch 132/2000\n",
      "4/4 [==============================] - 1s 360ms/step - loss: 0.0686 - mae: 0.0686 - msle: 0.0043 - mape: 474824.9062\n",
      "Epoch 133/2000\n",
      "4/4 [==============================] - 1s 370ms/step - loss: 0.0686 - mae: 0.0686 - msle: 0.0043 - mape: 474888.0312\n",
      "Epoch 134/2000\n",
      "4/4 [==============================] - 1s 336ms/step - loss: 0.0686 - mae: 0.0686 - msle: 0.0043 - mape: 474824.3438\n",
      "Epoch 135/2000\n",
      "4/4 [==============================] - 1s 360ms/step - loss: 0.0686 - mae: 0.0686 - msle: 0.0043 - mape: 474894.5625\n",
      "Epoch 136/2000\n",
      "4/4 [==============================] - 2s 414ms/step - loss: 0.0686 - mae: 0.0686 - msle: 0.0043 - mape: 474819.1875\n",
      "Epoch 137/2000\n",
      "4/4 [==============================] - 1s 356ms/step - loss: 0.0686 - mae: 0.0686 - msle: 0.0043 - mape: 474861.0000\n",
      "Epoch 138/2000\n",
      "4/4 [==============================] - 1s 378ms/step - loss: 0.0686 - mae: 0.0686 - msle: 0.0043 - mape: 474854.5000\n",
      "Epoch 139/2000\n",
      "4/4 [==============================] - 1s 370ms/step - loss: 0.0686 - mae: 0.0686 - msle: 0.0043 - mape: 474871.4375\n",
      "Epoch 140/2000\n",
      "4/4 [==============================] - 1s 361ms/step - loss: 0.0686 - mae: 0.0686 - msle: 0.0043 - mape: 474828.2500\n",
      "Epoch 141/2000\n",
      "4/4 [==============================] - 1s 360ms/step - loss: 0.0686 - mae: 0.0686 - msle: 0.0043 - mape: 474909.5625\n",
      "Epoch 142/2000\n",
      "4/4 [==============================] - 1s 350ms/step - loss: 0.0686 - mae: 0.0686 - msle: 0.0043 - mape: 474801.9688\n",
      "Epoch 143/2000\n",
      "4/4 [==============================] - 1s 357ms/step - loss: 0.0686 - mae: 0.0686 - msle: 0.0043 - mape: 474868.4062\n",
      "Epoch 144/2000\n",
      "4/4 [==============================] - 1s 348ms/step - loss: 0.0686 - mae: 0.0686 - msle: 0.0043 - mape: 474882.9375\n",
      "Epoch 145/2000\n",
      "4/4 [==============================] - 1s 375ms/step - loss: 0.0686 - mae: 0.0686 - msle: 0.0043 - mape: 474779.4688\n",
      "Epoch 146/2000\n",
      "4/4 [==============================] - 1s 343ms/step - loss: 0.0686 - mae: 0.0686 - msle: 0.0043 - mape: 474917.3438\n",
      "Epoch 147/2000\n",
      "4/4 [==============================] - 1s 332ms/step - loss: 0.0686 - mae: 0.0686 - msle: 0.0043 - mape: 474800.9688\n",
      "Epoch 148/2000\n",
      "4/4 [==============================] - 1s 326ms/step - loss: 0.0686 - mae: 0.0686 - msle: 0.0043 - mape: 474856.6875\n",
      "Epoch 149/2000\n",
      "4/4 [==============================] - 1s 325ms/step - loss: 0.0686 - mae: 0.0686 - msle: 0.0043 - mape: 474824.6250\n",
      "Epoch 150/2000\n",
      "4/4 [==============================] - 2s 391ms/step - loss: 0.0686 - mae: 0.0686 - msle: 0.0043 - mape: 474885.3750\n",
      "Epoch 151/2000\n",
      "4/4 [==============================] - 1s 347ms/step - loss: 0.0686 - mae: 0.0686 - msle: 0.0043 - mape: 474839.5000\n",
      "Epoch 152/2000\n",
      "4/4 [==============================] - 1s 378ms/step - loss: 0.0686 - mae: 0.0686 - msle: 0.0043 - mape: 474801.3438\n",
      "Epoch 153/2000\n",
      "4/4 [==============================] - 1s 364ms/step - loss: 0.0686 - mae: 0.0686 - msle: 0.0043 - mape: 474840.5000\n",
      "Epoch 154/2000\n",
      "4/4 [==============================] - 1s 374ms/step - loss: 0.0686 - mae: 0.0686 - msle: 0.0043 - mape: 474811.0312\n",
      "Epoch 155/2000\n",
      "4/4 [==============================] - 1s 373ms/step - loss: 0.0686 - mae: 0.0686 - msle: 0.0043 - mape: 474854.3438\n",
      "Epoch 156/2000\n",
      "4/4 [==============================] - 1s 361ms/step - loss: 0.0686 - mae: 0.0686 - msle: 0.0043 - mape: 474877.6250\n",
      "Epoch 157/2000\n",
      "4/4 [==============================] - 1s 363ms/step - loss: 0.0686 - mae: 0.0686 - msle: 0.0043 - mape: 474798.5000\n",
      "Epoch 158/2000\n",
      "4/4 [==============================] - 2s 394ms/step - loss: 0.0686 - mae: 0.0686 - msle: 0.0043 - mape: 474863.4375\n",
      "Epoch 159/2000\n",
      "4/4 [==============================] - 1s 349ms/step - loss: 0.0686 - mae: 0.0686 - msle: 0.0043 - mape: 474835.5000\n",
      "Epoch 160/2000\n",
      "4/4 [==============================] - 1s 362ms/step - loss: 0.0686 - mae: 0.0686 - msle: 0.0043 - mape: 474802.8750\n",
      "Epoch 161/2000\n",
      "4/4 [==============================] - 1s 327ms/step - loss: 0.0686 - mae: 0.0686 - msle: 0.0043 - mape: 474870.3438\n",
      "Epoch 162/2000\n",
      "4/4 [==============================] - 2s 383ms/step - loss: 0.0686 - mae: 0.0686 - msle: 0.0043 - mape: 474788.5312\n",
      "Epoch 163/2000\n",
      "4/4 [==============================] - 1s 359ms/step - loss: 0.0686 - mae: 0.0686 - msle: 0.0043 - mape: 474873.0938\n",
      "Epoch 164/2000\n",
      "4/4 [==============================] - 1s 372ms/step - loss: 0.0686 - mae: 0.0686 - msle: 0.0043 - mape: 474817.0000\n",
      "Epoch 165/2000\n",
      "4/4 [==============================] - 1s 374ms/step - loss: 0.0686 - mae: 0.0686 - msle: 0.0043 - mape: 474827.6562\n",
      "Epoch 166/2000\n",
      "4/4 [==============================] - 1s 354ms/step - loss: 0.0686 - mae: 0.0686 - msle: 0.0043 - mape: 474806.7188\n",
      "Epoch 167/2000\n",
      "4/4 [==============================] - 1s 360ms/step - loss: 0.0686 - mae: 0.0686 - msle: 0.0043 - mape: 474820.3438\n",
      "Epoch 168/2000\n",
      "4/4 [==============================] - 1s 368ms/step - loss: 0.0686 - mae: 0.0686 - msle: 0.0043 - mape: 474820.5312\n",
      "Epoch 169/2000\n",
      "4/4 [==============================] - 2s 378ms/step - loss: 0.0686 - mae: 0.0686 - msle: 0.0043 - mape: 474837.9375\n",
      "Epoch 170/2000\n",
      "4/4 [==============================] - 1s 362ms/step - loss: 0.0686 - mae: 0.0686 - msle: 0.0043 - mape: 474818.6875\n",
      "Epoch 171/2000\n",
      "4/4 [==============================] - 1s 359ms/step - loss: 0.0686 - mae: 0.0686 - msle: 0.0043 - mape: 474849.4062\n",
      "Epoch 172/2000\n",
      "4/4 [==============================] - 1s 362ms/step - loss: 0.0686 - mae: 0.0686 - msle: 0.0043 - mape: 474807.8750\n",
      "Epoch 173/2000\n",
      "4/4 [==============================] - 2s 335ms/step - loss: 0.0686 - mae: 0.0686 - msle: 0.0043 - mape: 474873.6875\n",
      "Epoch 174/2000\n",
      "4/4 [==============================] - 1s 342ms/step - loss: 0.0686 - mae: 0.0686 - msle: 0.0043 - mape: 474762.7500\n",
      "Epoch 175/2000\n",
      "4/4 [==============================] - 1s 370ms/step - loss: 0.0686 - mae: 0.0686 - msle: 0.0043 - mape: 474826.7500\n",
      "Epoch 176/2000\n",
      "4/4 [==============================] - 1s 357ms/step - loss: 0.0686 - mae: 0.0686 - msle: 0.0043 - mape: 474915.7188\n",
      "Epoch 177/2000\n",
      "4/4 [==============================] - 1s 376ms/step - loss: 0.0686 - mae: 0.0686 - msle: 0.0043 - mape: 474777.9688\n",
      "Epoch 178/2000\n",
      "4/4 [==============================] - 1s 374ms/step - loss: 0.0686 - mae: 0.0686 - msle: 0.0043 - mape: 474869.3125\n",
      "Epoch 179/2000\n",
      "4/4 [==============================] - 1s 355ms/step - loss: 0.0686 - mae: 0.0686 - msle: 0.0043 - mape: 474831.7812\n",
      "Epoch 180/2000\n",
      "4/4 [==============================] - 1s 351ms/step - loss: 0.0686 - mae: 0.0686 - msle: 0.0043 - mape: 474854.7500\n",
      "Epoch 181/2000\n",
      "4/4 [==============================] - 1s 384ms/step - loss: 0.0686 - mae: 0.0686 - msle: 0.0043 - mape: 474770.6250\n",
      "Epoch 182/2000\n",
      "4/4 [==============================] - 1s 365ms/step - loss: 0.0686 - mae: 0.0686 - msle: 0.0043 - mape: 474831.1562\n",
      "Epoch 183/2000\n",
      "4/4 [==============================] - 2s 395ms/step - loss: 0.0686 - mae: 0.0686 - msle: 0.0043 - mape: 474869.3750\n",
      "Epoch 184/2000\n",
      "4/4 [==============================] - 2s 394ms/step - loss: 0.0686 - mae: 0.0686 - msle: 0.0043 - mape: 474812.0312\n",
      "Epoch 185/2000\n",
      "4/4 [==============================] - 1s 368ms/step - loss: 0.0686 - mae: 0.0686 - msle: 0.0043 - mape: 474775.0938\n",
      "Epoch 186/2000\n",
      "4/4 [==============================] - 1s 370ms/step - loss: 0.0686 - mae: 0.0686 - msle: 0.0043 - mape: 474801.0625\n",
      "Epoch 187/2000\n",
      "4/4 [==============================] - 1s 322ms/step - loss: 0.0686 - mae: 0.0686 - msle: 0.0043 - mape: 474861.4375\n",
      "Epoch 188/2000\n",
      "4/4 [==============================] - 1s 332ms/step - loss: 0.0686 - mae: 0.0686 - msle: 0.0043 - mape: 474716.4062\n",
      "Epoch 189/2000\n",
      "4/4 [==============================] - 1s 322ms/step - loss: 0.0686 - mae: 0.0686 - msle: 0.0043 - mape: 474856.3438\n",
      "Epoch 190/2000\n",
      "4/4 [==============================] - 2s 392ms/step - loss: 0.0686 - mae: 0.0686 - msle: 0.0043 - mape: 474777.6250\n",
      "Epoch 191/2000\n",
      "4/4 [==============================] - 1s 360ms/step - loss: 0.0686 - mae: 0.0686 - msle: 0.0043 - mape: 474797.0312\n",
      "Epoch 192/2000\n",
      "4/4 [==============================] - 2s 397ms/step - loss: 0.0686 - mae: 0.0686 - msle: 0.0043 - mape: 474798.0312\n",
      "Epoch 193/2000\n",
      "4/4 [==============================] - 1s 347ms/step - loss: 0.0686 - mae: 0.0686 - msle: 0.0043 - mape: 474746.3438\n",
      "Epoch 194/2000\n",
      "4/4 [==============================] - 2s 393ms/step - loss: 0.0686 - mae: 0.0686 - msle: 0.0043 - mape: 474785.4375\n",
      "Epoch 195/2000\n",
      "4/4 [==============================] - 1s 357ms/step - loss: 0.0686 - mae: 0.0686 - msle: 0.0043 - mape: 474773.9375\n",
      "Epoch 196/2000\n",
      "4/4 [==============================] - 1s 350ms/step - loss: 0.0686 - mae: 0.0686 - msle: 0.0043 - mape: 474816.7812\n",
      "Epoch 197/2000\n",
      "4/4 [==============================] - 1s 374ms/step - loss: 0.0686 - mae: 0.0686 - msle: 0.0043 - mape: 474706.3125\n",
      "Epoch 198/2000\n",
      "4/4 [==============================] - 2s 414ms/step - loss: 0.0686 - mae: 0.0686 - msle: 0.0043 - mape: 474809.9688\n",
      "Epoch 199/2000\n",
      "4/4 [==============================] - 1s 306ms/step - loss: 0.0686 - mae: 0.0686 - msle: 0.0043 - mape: 474747.0625\n",
      "Epoch 200/2000\n",
      "4/4 [==============================] - 2s 392ms/step - loss: 0.0686 - mae: 0.0686 - msle: 0.0043 - mape: 474775.8750\n",
      "Epoch 201/2000\n",
      "4/4 [==============================] - 1s 356ms/step - loss: 0.0686 - mae: 0.0686 - msle: 0.0043 - mape: 474777.5312\n",
      "Epoch 202/2000\n",
      "4/4 [==============================] - 1s 373ms/step - loss: 0.0686 - mae: 0.0686 - msle: 0.0043 - mape: 474765.9375\n",
      "Epoch 203/2000\n",
      "4/4 [==============================] - 1s 368ms/step - loss: 0.0686 - mae: 0.0686 - msle: 0.0043 - mape: 474801.7812\n",
      "Epoch 204/2000\n",
      "4/4 [==============================] - 1s 351ms/step - loss: 0.0686 - mae: 0.0686 - msle: 0.0043 - mape: 474807.2812\n",
      "Epoch 205/2000\n",
      "4/4 [==============================] - 1s 355ms/step - loss: 0.0686 - mae: 0.0686 - msle: 0.0043 - mape: 474760.1875\n",
      "Epoch 206/2000\n",
      "4/4 [==============================] - 1s 353ms/step - loss: 0.0686 - mae: 0.0686 - msle: 0.0043 - mape: 474747.2500\n",
      "Epoch 207/2000\n",
      "4/4 [==============================] - 1s 371ms/step - loss: 0.0686 - mae: 0.0686 - msle: 0.0043 - mape: 474772.2812\n",
      "Epoch 208/2000\n",
      "4/4 [==============================] - 1s 382ms/step - loss: 0.0686 - mae: 0.0686 - msle: 0.0043 - mape: 474778.0625\n",
      "Epoch 209/2000\n",
      "4/4 [==============================] - 1s 352ms/step - loss: 0.0686 - mae: 0.0686 - msle: 0.0043 - mape: 474747.2188\n",
      "Epoch 210/2000\n",
      "4/4 [==============================] - 1s 379ms/step - loss: 0.0686 - mae: 0.0686 - msle: 0.0043 - mape: 474761.8125\n",
      "Epoch 211/2000\n",
      "4/4 [==============================] - 1s 332ms/step - loss: 0.0686 - mae: 0.0686 - msle: 0.0043 - mape: 474757.4688\n",
      "Epoch 212/2000\n",
      "4/4 [==============================] - 1s 324ms/step - loss: 0.0686 - mae: 0.0686 - msle: 0.0043 - mape: 474770.5938\n",
      "Epoch 213/2000\n",
      "4/4 [==============================] - 2s 373ms/step - loss: 0.0686 - mae: 0.0686 - msle: 0.0043 - mape: 474737.5938\n",
      "Epoch 214/2000\n",
      "4/4 [==============================] - 1s 376ms/step - loss: 0.0686 - mae: 0.0686 - msle: 0.0043 - mape: 474784.1562\n",
      "Epoch 215/2000\n",
      "4/4 [==============================] - 1s 365ms/step - loss: 0.0686 - mae: 0.0686 - msle: 0.0043 - mape: 474712.0938\n",
      "Epoch 216/2000\n",
      "4/4 [==============================] - 1s 367ms/step - loss: 0.0686 - mae: 0.0686 - msle: 0.0043 - mape: 474752.0000\n",
      "Epoch 217/2000\n",
      "4/4 [==============================] - 1s 366ms/step - loss: 0.0686 - mae: 0.0686 - msle: 0.0043 - mape: 474780.6875\n",
      "Epoch 218/2000\n",
      "4/4 [==============================] - 1s 358ms/step - loss: 0.0686 - mae: 0.0686 - msle: 0.0043 - mape: 474709.5625\n",
      "Epoch 219/2000\n",
      "4/4 [==============================] - 1s 371ms/step - loss: 0.0686 - mae: 0.0686 - msle: 0.0043 - mape: 474791.4062\n",
      "Epoch 220/2000\n",
      "4/4 [==============================] - 1s 348ms/step - loss: 0.0686 - mae: 0.0686 - msle: 0.0043 - mape: 474775.6250\n",
      "Epoch 221/2000\n",
      "4/4 [==============================] - 1s 350ms/step - loss: 0.0686 - mae: 0.0686 - msle: 0.0043 - mape: 474694.3438\n",
      "Epoch 222/2000\n",
      "4/4 [==============================] - 1s 369ms/step - loss: 0.0686 - mae: 0.0686 - msle: 0.0043 - mape: 474740.2188\n",
      "Epoch 223/2000\n",
      "4/4 [==============================] - 1s 350ms/step - loss: 0.0686 - mae: 0.0686 - msle: 0.0043 - mape: 474737.7812\n",
      "Epoch 224/2000\n",
      "4/4 [==============================] - 1s 372ms/step - loss: 0.0686 - mae: 0.0686 - msle: 0.0043 - mape: 474751.9375\n",
      "Epoch 225/2000\n",
      "4/4 [==============================] - 1s 371ms/step - loss: 0.0686 - mae: 0.0686 - msle: 0.0043 - mape: 474739.3750\n",
      "Epoch 226/2000\n",
      "4/4 [==============================] - 1s 317ms/step - loss: 0.0686 - mae: 0.0686 - msle: 0.0043 - mape: 474792.2500\n",
      "Epoch 227/2000\n",
      "4/4 [==============================] - 1s 339ms/step - loss: 0.0686 - mae: 0.0686 - msle: 0.0043 - mape: 474724.1562\n",
      "Epoch 228/2000\n",
      "4/4 [==============================] - 1s 351ms/step - loss: 0.0686 - mae: 0.0686 - msle: 0.0043 - mape: 474704.1562\n",
      "Epoch 229/2000\n",
      "4/4 [==============================] - 1s 372ms/step - loss: 0.0686 - mae: 0.0686 - msle: 0.0043 - mape: 474710.6562\n",
      "Epoch 230/2000\n",
      "4/4 [==============================] - 1s 367ms/step - loss: 0.0686 - mae: 0.0686 - msle: 0.0043 - mape: 474655.6250\n",
      "Epoch 231/2000\n",
      "4/4 [==============================] - 1s 375ms/step - loss: 0.0686 - mae: 0.0686 - msle: 0.0043 - mape: 474703.8125\n",
      "Epoch 232/2000\n",
      "4/4 [==============================] - 1s 355ms/step - loss: 0.0686 - mae: 0.0686 - msle: 0.0043 - mape: 474743.0312\n",
      "Epoch 233/2000\n",
      "4/4 [==============================] - 1s 384ms/step - loss: 0.0686 - mae: 0.0686 - msle: 0.0043 - mape: 474725.4688\n",
      "Epoch 234/2000\n",
      "4/4 [==============================] - 2s 360ms/step - loss: 0.0686 - mae: 0.0686 - msle: 0.0043 - mape: 474713.8438\n",
      "Epoch 235/2000\n",
      "4/4 [==============================] - 1s 374ms/step - loss: 0.0686 - mae: 0.0686 - msle: 0.0043 - mape: 474644.2500\n",
      "Epoch 236/2000\n",
      "4/4 [==============================] - 2s 401ms/step - loss: 0.0686 - mae: 0.0686 - msle: 0.0043 - mape: 474721.0312\n",
      "Epoch 237/2000\n",
      "4/4 [==============================] - 1s 331ms/step - loss: 0.0686 - mae: 0.0686 - msle: 0.0043 - mape: 474741.1250\n",
      "Epoch 238/2000\n",
      "4/4 [==============================] - 1s 343ms/step - loss: 0.0686 - mae: 0.0686 - msle: 0.0043 - mape: 474673.2188\n",
      "Epoch 239/2000\n",
      "4/4 [==============================] - 2s 390ms/step - loss: 0.0686 - mae: 0.0686 - msle: 0.0043 - mape: 474677.4375\n",
      "Epoch 240/2000\n",
      "4/4 [==============================] - 1s 387ms/step - loss: 0.0686 - mae: 0.0686 - msle: 0.0043 - mape: 474729.8438\n",
      "Epoch 241/2000\n",
      "4/4 [==============================] - 1s 377ms/step - loss: 0.0686 - mae: 0.0686 - msle: 0.0043 - mape: 474698.3750\n",
      "Epoch 242/2000\n",
      "4/4 [==============================] - 1s 398ms/step - loss: 0.0686 - mae: 0.0686 - msle: 0.0043 - mape: 474645.7500\n",
      "Epoch 243/2000\n",
      "4/4 [==============================] - 1s 381ms/step - loss: 0.0686 - mae: 0.0686 - msle: 0.0043 - mape: 474681.2188\n",
      "Epoch 244/2000\n",
      "4/4 [==============================] - 1s 373ms/step - loss: 0.0686 - mae: 0.0686 - msle: 0.0043 - mape: 474729.8750\n",
      "Epoch 245/2000\n",
      "4/4 [==============================] - 1s 347ms/step - loss: 0.0686 - mae: 0.0686 - msle: 0.0043 - mape: 474720.4375\n",
      "Epoch 246/2000\n",
      "4/4 [==============================] - 1s 357ms/step - loss: 0.0686 - mae: 0.0686 - msle: 0.0043 - mape: 474709.5000\n",
      "Epoch 247/2000\n",
      "4/4 [==============================] - 1s 358ms/step - loss: 0.0686 - mae: 0.0686 - msle: 0.0043 - mape: 474676.0312\n",
      "Epoch 248/2000\n",
      "4/4 [==============================] - 1s 369ms/step - loss: 0.0686 - mae: 0.0686 - msle: 0.0043 - mape: 474662.2812\n",
      "Epoch 249/2000\n",
      "4/4 [==============================] - 1s 318ms/step - loss: 0.0686 - mae: 0.0686 - msle: 0.0043 - mape: 474733.5625\n",
      "Epoch 250/2000\n",
      "4/4 [==============================] - 1s 320ms/step - loss: 0.0686 - mae: 0.0686 - msle: 0.0043 - mape: 474604.2188\n",
      "Epoch 251/2000\n",
      "4/4 [==============================] - 1s 305ms/step - loss: 0.0686 - mae: 0.0686 - msle: 0.0043 - mape: 474661.8750\n",
      "Epoch 252/2000\n",
      "4/4 [==============================] - 1s 327ms/step - loss: 0.0686 - mae: 0.0686 - msle: 0.0043 - mape: 474644.9375\n",
      "Epoch 253/2000\n",
      "4/4 [==============================] - 2s 384ms/step - loss: 0.0686 - mae: 0.0686 - msle: 0.0043 - mape: 474676.2812\n",
      "Epoch 254/2000\n",
      "4/4 [==============================] - 1s 367ms/step - loss: 0.0686 - mae: 0.0686 - msle: 0.0043 - mape: 474687.5000\n",
      "Epoch 255/2000\n",
      "4/4 [==============================] - 1s 369ms/step - loss: 0.0686 - mae: 0.0686 - msle: 0.0043 - mape: 474659.1562\n",
      "Epoch 256/2000\n",
      "4/4 [==============================] - 2s 385ms/step - loss: 0.0686 - mae: 0.0686 - msle: 0.0043 - mape: 474604.9375\n",
      "Epoch 257/2000\n",
      "4/4 [==============================] - 2s 403ms/step - loss: 0.0686 - mae: 0.0686 - msle: 0.0043 - mape: 474609.5312\n",
      "Epoch 258/2000\n",
      "4/4 [==============================] - 1s 375ms/step - loss: 0.0686 - mae: 0.0686 - msle: 0.0043 - mape: 474692.4688\n",
      "Epoch 259/2000\n",
      "4/4 [==============================] - 1s 358ms/step - loss: 0.0686 - mae: 0.0686 - msle: 0.0043 - mape: 474664.7500\n",
      "Epoch 260/2000\n",
      "4/4 [==============================] - 1s 382ms/step - loss: 0.0686 - mae: 0.0686 - msle: 0.0043 - mape: 474692.2188\n",
      "Epoch 261/2000\n",
      "4/4 [==============================] - 1s 379ms/step - loss: 0.0686 - mae: 0.0686 - msle: 0.0043 - mape: 474586.2500\n",
      "Epoch 262/2000\n",
      "4/4 [==============================] - 1s 377ms/step - loss: 0.0686 - mae: 0.0686 - msle: 0.0043 - mape: 474622.5938\n"
     ]
    },
    {
     "ename": "KeyboardInterrupt",
     "evalue": "",
     "output_type": "error",
     "traceback": [
      "\u001b[0;31m---------------------------------------------------------------------------\u001b[0m",
      "\u001b[0;31mKeyboardInterrupt\u001b[0m                         Traceback (most recent call last)",
      "\u001b[1;32m/home/dgx/Desktop/racoon/music_generate/misuc_generate.ipynb Cell 7\u001b[0m in \u001b[0;36m<cell line: 1>\u001b[0;34m()\u001b[0m\n\u001b[1;32m     <a href='vscode-notebook-cell:/home/dgx/Desktop/racoon/music_generate/misuc_generate.ipynb#X11sZmlsZQ%3D%3D?line=25'>26</a>\u001b[0m keras\u001b[39m.\u001b[39mutils\u001b[39m.\u001b[39mplot_model(model, show_shapes \u001b[39m=\u001b[39m \u001b[39mTrue\u001b[39;00m, to_file\u001b[39m=\u001b[39m\u001b[39m'\u001b[39m\u001b[39mmode2.png\u001b[39m\u001b[39m'\u001b[39m)\n\u001b[1;32m     <a href='vscode-notebook-cell:/home/dgx/Desktop/racoon/music_generate/misuc_generate.ipynb#X11sZmlsZQ%3D%3D?line=26'>27</a>\u001b[0m model\u001b[39m.\u001b[39mcompile(optimizer \u001b[39m=\u001b[39m Adam(\u001b[39m0.0001\u001b[39m),\n\u001b[1;32m     <a href='vscode-notebook-cell:/home/dgx/Desktop/racoon/music_generate/misuc_generate.ipynb#X11sZmlsZQ%3D%3D?line=27'>28</a>\u001b[0m               loss \u001b[39m=\u001b[39m \u001b[39m'\u001b[39m\u001b[39mmae\u001b[39m\u001b[39m'\u001b[39m,\n\u001b[1;32m     <a href='vscode-notebook-cell:/home/dgx/Desktop/racoon/music_generate/misuc_generate.ipynb#X11sZmlsZQ%3D%3D?line=28'>29</a>\u001b[0m               metrics\u001b[39m=\u001b[39m  [metr])\n\u001b[0;32m---> <a href='vscode-notebook-cell:/home/dgx/Desktop/racoon/music_generate/misuc_generate.ipynb#X11sZmlsZQ%3D%3D?line=29'>30</a>\u001b[0m history \u001b[39m=\u001b[39m model\u001b[39m.\u001b[39;49mfit(train,train, batch_size \u001b[39m=\u001b[39;49m \u001b[39m200\u001b[39;49m, epochs \u001b[39m=\u001b[39;49m \u001b[39m2000\u001b[39;49m)\n",
      "File \u001b[0;32m~/anaconda3/envs/racooon/lib/python3.8/site-packages/keras/utils/traceback_utils.py:65\u001b[0m, in \u001b[0;36mfilter_traceback.<locals>.error_handler\u001b[0;34m(*args, **kwargs)\u001b[0m\n\u001b[1;32m     63\u001b[0m filtered_tb \u001b[39m=\u001b[39m \u001b[39mNone\u001b[39;00m\n\u001b[1;32m     64\u001b[0m \u001b[39mtry\u001b[39;00m:\n\u001b[0;32m---> 65\u001b[0m     \u001b[39mreturn\u001b[39;00m fn(\u001b[39m*\u001b[39;49margs, \u001b[39m*\u001b[39;49m\u001b[39m*\u001b[39;49mkwargs)\n\u001b[1;32m     66\u001b[0m \u001b[39mexcept\u001b[39;00m \u001b[39mException\u001b[39;00m \u001b[39mas\u001b[39;00m e:\n\u001b[1;32m     67\u001b[0m     filtered_tb \u001b[39m=\u001b[39m _process_traceback_frames(e\u001b[39m.\u001b[39m__traceback__)\n",
      "File \u001b[0;32m~/anaconda3/envs/racooon/lib/python3.8/site-packages/keras/engine/training.py:1549\u001b[0m, in \u001b[0;36mModel.fit\u001b[0;34m(self, x, y, batch_size, epochs, verbose, callbacks, validation_split, validation_data, shuffle, class_weight, sample_weight, initial_epoch, steps_per_epoch, validation_steps, validation_batch_size, validation_freq, max_queue_size, workers, use_multiprocessing)\u001b[0m\n\u001b[1;32m   1547\u001b[0m logs \u001b[39m=\u001b[39m \u001b[39mNone\u001b[39;00m\n\u001b[1;32m   1548\u001b[0m \u001b[39mfor\u001b[39;00m epoch, iterator \u001b[39min\u001b[39;00m data_handler\u001b[39m.\u001b[39menumerate_epochs():\n\u001b[0;32m-> 1549\u001b[0m     \u001b[39mself\u001b[39;49m\u001b[39m.\u001b[39;49mreset_metrics()\n\u001b[1;32m   1550\u001b[0m     callbacks\u001b[39m.\u001b[39mon_epoch_begin(epoch)\n\u001b[1;32m   1551\u001b[0m     \u001b[39mwith\u001b[39;00m data_handler\u001b[39m.\u001b[39mcatch_stop_iteration():\n",
      "File \u001b[0;32m~/anaconda3/envs/racooon/lib/python3.8/site-packages/keras/engine/training.py:2319\u001b[0m, in \u001b[0;36mModel.reset_metrics\u001b[0;34m(self)\u001b[0m\n\u001b[1;32m   2300\u001b[0m \u001b[39m\"\"\"Resets the state of all the metrics in the model.\u001b[39;00m\n\u001b[1;32m   2301\u001b[0m \n\u001b[1;32m   2302\u001b[0m \u001b[39mExamples:\u001b[39;00m\n\u001b[0;32m   (...)\u001b[0m\n\u001b[1;32m   2316\u001b[0m \n\u001b[1;32m   2317\u001b[0m \u001b[39m\"\"\"\u001b[39;00m\n\u001b[1;32m   2318\u001b[0m \u001b[39mfor\u001b[39;00m m \u001b[39min\u001b[39;00m \u001b[39mself\u001b[39m\u001b[39m.\u001b[39mmetrics:\n\u001b[0;32m-> 2319\u001b[0m     m\u001b[39m.\u001b[39;49mreset_state()\n",
      "File \u001b[0;32m~/anaconda3/envs/racooon/lib/python3.8/site-packages/keras/metrics/base_metric.py:268\u001b[0m, in \u001b[0;36mMetric.reset_state\u001b[0;34m(self)\u001b[0m\n\u001b[1;32m    266\u001b[0m     \u001b[39mreturn\u001b[39;00m \u001b[39mself\u001b[39m\u001b[39m.\u001b[39mreset_states()\n\u001b[1;32m    267\u001b[0m \u001b[39melse\u001b[39;00m:\n\u001b[0;32m--> 268\u001b[0m     backend\u001b[39m.\u001b[39;49mbatch_set_value([(v, \u001b[39m0\u001b[39;49m) \u001b[39mfor\u001b[39;49;00m v \u001b[39min\u001b[39;49;00m \u001b[39mself\u001b[39;49m\u001b[39m.\u001b[39;49mvariables])\n",
      "File \u001b[0;32m~/anaconda3/envs/racooon/lib/python3.8/site-packages/tensorflow/python/util/traceback_utils.py:150\u001b[0m, in \u001b[0;36mfilter_traceback.<locals>.error_handler\u001b[0;34m(*args, **kwargs)\u001b[0m\n\u001b[1;32m    148\u001b[0m filtered_tb \u001b[39m=\u001b[39m \u001b[39mNone\u001b[39;00m\n\u001b[1;32m    149\u001b[0m \u001b[39mtry\u001b[39;00m:\n\u001b[0;32m--> 150\u001b[0m   \u001b[39mreturn\u001b[39;00m fn(\u001b[39m*\u001b[39;49margs, \u001b[39m*\u001b[39;49m\u001b[39m*\u001b[39;49mkwargs)\n\u001b[1;32m    151\u001b[0m \u001b[39mexcept\u001b[39;00m \u001b[39mException\u001b[39;00m \u001b[39mas\u001b[39;00m e:\n\u001b[1;32m    152\u001b[0m   filtered_tb \u001b[39m=\u001b[39m _process_traceback_frames(e\u001b[39m.\u001b[39m__traceback__)\n",
      "File \u001b[0;32m~/anaconda3/envs/racooon/lib/python3.8/site-packages/tensorflow/python/util/dispatch.py:1176\u001b[0m, in \u001b[0;36madd_dispatch_support.<locals>.decorator.<locals>.op_dispatch_handler\u001b[0;34m(*args, **kwargs)\u001b[0m\n\u001b[1;32m   1174\u001b[0m \u001b[39m# Fallback dispatch system (dispatch v1):\u001b[39;00m\n\u001b[1;32m   1175\u001b[0m \u001b[39mtry\u001b[39;00m:\n\u001b[0;32m-> 1176\u001b[0m   \u001b[39mreturn\u001b[39;00m dispatch_target(\u001b[39m*\u001b[39;49margs, \u001b[39m*\u001b[39;49m\u001b[39m*\u001b[39;49mkwargs)\n\u001b[1;32m   1177\u001b[0m \u001b[39mexcept\u001b[39;00m (\u001b[39mTypeError\u001b[39;00m, \u001b[39mValueError\u001b[39;00m):\n\u001b[1;32m   1178\u001b[0m   \u001b[39m# Note: convert_to_eager_tensor currently raises a ValueError, not a\u001b[39;00m\n\u001b[1;32m   1179\u001b[0m   \u001b[39m# TypeError, when given unexpected types.  So we need to catch both.\u001b[39;00m\n\u001b[1;32m   1180\u001b[0m   result \u001b[39m=\u001b[39m dispatch(op_dispatch_handler, args, kwargs)\n",
      "File \u001b[0;32m~/anaconda3/envs/racooon/lib/python3.8/site-packages/keras/backend.py:4302\u001b[0m, in \u001b[0;36mbatch_set_value\u001b[0;34m(tuples)\u001b[0m\n\u001b[1;32m   4300\u001b[0m \u001b[39mif\u001b[39;00m tf\u001b[39m.\u001b[39mexecuting_eagerly() \u001b[39mor\u001b[39;00m tf\u001b[39m.\u001b[39minside_function():\n\u001b[1;32m   4301\u001b[0m     \u001b[39mfor\u001b[39;00m x, value \u001b[39min\u001b[39;00m tuples:\n\u001b[0;32m-> 4302\u001b[0m         x\u001b[39m.\u001b[39;49massign(np\u001b[39m.\u001b[39;49masarray(value, dtype\u001b[39m=\u001b[39;49mdtype_numpy(x)))\n\u001b[1;32m   4303\u001b[0m \u001b[39melse\u001b[39;00m:\n\u001b[1;32m   4304\u001b[0m     \u001b[39mwith\u001b[39;00m get_graph()\u001b[39m.\u001b[39mas_default():\n",
      "File \u001b[0;32m~/anaconda3/envs/racooon/lib/python3.8/site-packages/tensorflow/python/distribute/values.py:1262\u001b[0m, in \u001b[0;36mSyncOnReadVariable.assign\u001b[0;34m(self, value, use_locking, name, read_value)\u001b[0m\n\u001b[1;32m   1259\u001b[0m \u001b[39mif\u001b[39;00m (ds_context\u001b[39m.\u001b[39min_cross_replica_context() \u001b[39mand\u001b[39;00m\n\u001b[1;32m   1260\u001b[0m     \u001b[39mnot\u001b[39;00m values_util\u001b[39m.\u001b[39min_replica_update_context()):\n\u001b[1;32m   1261\u001b[0m   values_util\u001b[39m.\u001b[39mmark_as_unsaveable()\n\u001b[0;32m-> 1262\u001b[0m   \u001b[39mreturn\u001b[39;00m values_util\u001b[39m.\u001b[39;49mon_read_assign_cross_replica(\n\u001b[1;32m   1263\u001b[0m       \u001b[39mself\u001b[39;49m, value, read_value\u001b[39m=\u001b[39;49mread_value)\n\u001b[1;32m   1264\u001b[0m \u001b[39melse\u001b[39;00m:\n\u001b[1;32m   1265\u001b[0m   \u001b[39mreturn\u001b[39;00m \u001b[39msuper\u001b[39m(SyncOnReadVariable, \u001b[39mself\u001b[39m)\u001b[39m.\u001b[39massign(value, use_locking, name,\n\u001b[1;32m   1266\u001b[0m                                                 read_value)\n",
      "File \u001b[0;32m~/anaconda3/envs/racooon/lib/python3.8/site-packages/tensorflow/python/distribute/values_util.py:217\u001b[0m, in \u001b[0;36mon_read_assign_cross_replica\u001b[0;34m(var, value, read_value)\u001b[0m\n\u001b[1;32m    214\u001b[0m   strategy \u001b[39m=\u001b[39m var\u001b[39m.\u001b[39m_distribute_strategy  \u001b[39m# pylint: disable=protected-access\u001b[39;00m\n\u001b[1;32m    215\u001b[0m   tensor \u001b[39m=\u001b[39m math_ops\u001b[39m.\u001b[39mcast(tensor \u001b[39m/\u001b[39m strategy\u001b[39m.\u001b[39mnum_replicas_in_sync,\n\u001b[1;32m    216\u001b[0m                          var\u001b[39m.\u001b[39mdtype)\n\u001b[0;32m--> 217\u001b[0m \u001b[39mreturn\u001b[39;00m assign_on_each_device(var, assign_on_device, tensor,\n\u001b[1;32m    218\u001b[0m                              read_value)\n",
      "File \u001b[0;32m~/anaconda3/envs/racooon/lib/python3.8/site-packages/tensorflow/python/distribute/values_util.py:178\u001b[0m, in \u001b[0;36massign_on_each_device\u001b[0;34m(var, assign_func, value, read_value)\u001b[0m\n\u001b[1;32m    176\u001b[0m   \u001b[39mreturn\u001b[39;00m update\n\u001b[1;32m    177\u001b[0m \u001b[39mwith\u001b[39;00m ops\u001b[39m.\u001b[39mcontrol_dependencies([update] \u001b[39mif\u001b[39;00m update \u001b[39melse\u001b[39;00m []):\n\u001b[0;32m--> 178\u001b[0m   \u001b[39mreturn\u001b[39;00m var\u001b[39m.\u001b[39;49mread_value()\n",
      "File \u001b[0;32m~/anaconda3/envs/racooon/lib/python3.8/site-packages/tensorflow/python/distribute/values.py:1329\u001b[0m, in \u001b[0;36mSyncOnReadVariable.read_value\u001b[0;34m(self)\u001b[0m\n\u001b[1;32m   1325\u001b[0m \u001b[39mif\u001b[39;00m ds_context\u001b[39m.\u001b[39min_variable_sync_on_read_context():\n\u001b[1;32m   1326\u001b[0m   \u001b[39mraise\u001b[39;00m \u001b[39mNotImplementedError\u001b[39;00m(\n\u001b[1;32m   1327\u001b[0m       \u001b[39m\"\u001b[39m\u001b[39mcall `variable.read_value()` inside variable_sync_on_read_context is\u001b[39m\u001b[39m\"\u001b[39m\n\u001b[1;32m   1328\u001b[0m       \u001b[39m\"\u001b[39m\u001b[39m not supported\u001b[39m\u001b[39m\"\u001b[39m)\n\u001b[0;32m-> 1329\u001b[0m \u001b[39mreturn\u001b[39;00m \u001b[39msuper\u001b[39;49m()\u001b[39m.\u001b[39;49mread_value()\n",
      "File \u001b[0;32m~/anaconda3/envs/racooon/lib/python3.8/site-packages/tensorflow/python/distribute/values.py:752\u001b[0m, in \u001b[0;36mDistributedVariable.read_value\u001b[0;34m(self)\u001b[0m\n\u001b[1;32m    750\u001b[0m   \u001b[39mreturn\u001b[39;00m \u001b[39mself\u001b[39m\u001b[39m.\u001b[39m_primary\u001b[39m.\u001b[39mread_value()\n\u001b[1;32m    751\u001b[0m \u001b[39mwith\u001b[39;00m ds_context\u001b[39m.\u001b[39menter_or_assert_strategy(\u001b[39mself\u001b[39m\u001b[39m.\u001b[39m_distribute_strategy):\n\u001b[0;32m--> 752\u001b[0m   \u001b[39mreturn\u001b[39;00m array_ops\u001b[39m.\u001b[39midentity(\u001b[39mself\u001b[39;49m\u001b[39m.\u001b[39;49m_get())\n",
      "File \u001b[0;32m~/anaconda3/envs/racooon/lib/python3.8/site-packages/tensorflow/python/distribute/values.py:1225\u001b[0m, in \u001b[0;36mSyncOnReadVariable._get\u001b[0;34m(self)\u001b[0m\n\u001b[1;32m   1217\u001b[0m \u001b[39m\"\"\"Returns the value of SyncOnReadVariable based on surrounding context.\u001b[39;00m\n\u001b[1;32m   1218\u001b[0m \n\u001b[1;32m   1219\u001b[0m \u001b[39mIf called under a non-default replica-context, returns the corresponding\u001b[39;00m\n\u001b[0;32m   (...)\u001b[0m\n\u001b[1;32m   1222\u001b[0m \u001b[39mthe synced value.\u001b[39;00m\n\u001b[1;32m   1223\u001b[0m \u001b[39m\"\"\"\u001b[39;00m\n\u001b[1;32m   1224\u001b[0m \u001b[39mwith\u001b[39;00m ds_context\u001b[39m.\u001b[39menter_or_assert_strategy(\u001b[39mself\u001b[39m\u001b[39m.\u001b[39m_distribute_strategy):\n\u001b[0;32m-> 1225\u001b[0m   \u001b[39mreturn\u001b[39;00m \u001b[39msuper\u001b[39;49m(SyncOnReadVariable, \u001b[39mself\u001b[39;49m)\u001b[39m.\u001b[39;49m_get()\n",
      "File \u001b[0;32m~/anaconda3/envs/racooon/lib/python3.8/site-packages/tensorflow/python/distribute/values.py:729\u001b[0m, in \u001b[0;36mDistributedVariable._get\u001b[0;34m(self)\u001b[0m\n\u001b[1;32m    727\u001b[0m replica_id \u001b[39m=\u001b[39m values_util\u001b[39m.\u001b[39mget_current_replica_id_as_int()\n\u001b[1;32m    728\u001b[0m \u001b[39mif\u001b[39;00m replica_id \u001b[39mis\u001b[39;00m \u001b[39mNone\u001b[39;00m:\n\u001b[0;32m--> 729\u001b[0m   \u001b[39mreturn\u001b[39;00m \u001b[39mself\u001b[39;49m\u001b[39m.\u001b[39;49m_get_cross_replica()\n\u001b[1;32m    730\u001b[0m \u001b[39melse\u001b[39;00m:\n\u001b[1;32m    731\u001b[0m   \u001b[39mreturn\u001b[39;00m \u001b[39mself\u001b[39m\u001b[39m.\u001b[39m_get_replica(replica_id)\n",
      "File \u001b[0;32m~/anaconda3/envs/racooon/lib/python3.8/site-packages/tensorflow/python/distribute/values.py:1339\u001b[0m, in \u001b[0;36mSyncOnReadVariable._get_cross_replica\u001b[0;34m(self)\u001b[0m\n\u001b[1;32m   1337\u001b[0m   values_util\u001b[39m.\u001b[39mmark_as_unsaveable()\n\u001b[1;32m   1338\u001b[0m \u001b[39mwith\u001b[39;00m ds_context\u001b[39m.\u001b[39menter_or_assert_strategy(\u001b[39mself\u001b[39m\u001b[39m.\u001b[39m_distribute_strategy):\n\u001b[0;32m-> 1339\u001b[0m   \u001b[39mreturn\u001b[39;00m \u001b[39mself\u001b[39;49m\u001b[39m.\u001b[39;49m_distribute_strategy\u001b[39m.\u001b[39;49mreduce(\n\u001b[1;32m   1340\u001b[0m       reduce_util\u001b[39m.\u001b[39;49mReduceOp\u001b[39m.\u001b[39;49mfrom_variable_aggregation(\u001b[39mself\u001b[39;49m\u001b[39m.\u001b[39;49m_aggregation),\n\u001b[1;32m   1341\u001b[0m       \u001b[39mself\u001b[39;49m,\n\u001b[1;32m   1342\u001b[0m       axis\u001b[39m=\u001b[39;49m\u001b[39mNone\u001b[39;49;00m)\n",
      "File \u001b[0;32m~/anaconda3/envs/racooon/lib/python3.8/site-packages/tensorflow/python/distribute/distribute_lib.py:1427\u001b[0m, in \u001b[0;36mStrategyBase.reduce\u001b[0;34m(self, reduce_op, value, axis)\u001b[0m\n\u001b[1;32m   1425\u001b[0m   reduce_op \u001b[39m=\u001b[39m reduce_util\u001b[39m.\u001b[39mReduceOp(reduce_op\u001b[39m.\u001b[39mupper())\n\u001b[1;32m   1426\u001b[0m \u001b[39mif\u001b[39;00m axis \u001b[39mis\u001b[39;00m \u001b[39mNone\u001b[39;00m:\n\u001b[0;32m-> 1427\u001b[0m   \u001b[39mreturn\u001b[39;00m \u001b[39mself\u001b[39;49m\u001b[39m.\u001b[39;49m_extended\u001b[39m.\u001b[39;49m_reduce(reduce_op, value)  \u001b[39m# pylint: disable=protected-access\u001b[39;00m\n\u001b[1;32m   1428\u001b[0m \u001b[39mif\u001b[39;00m reduce_op \u001b[39m==\u001b[39m reduce_util\u001b[39m.\u001b[39mReduceOp\u001b[39m.\u001b[39mSUM:\n\u001b[1;32m   1430\u001b[0m   \u001b[39mdef\u001b[39;00m \u001b[39mreduce_sum\u001b[39m(v):\n",
      "File \u001b[0;32m~/anaconda3/envs/racooon/lib/python3.8/site-packages/tensorflow/python/distribute/distribute_lib.py:2299\u001b[0m, in \u001b[0;36mStrategyExtendedV2._reduce\u001b[0;34m(self, reduce_op, value)\u001b[0m\n\u001b[1;32m   2296\u001b[0m \u001b[39mdef\u001b[39;00m \u001b[39m_reduce\u001b[39m(\u001b[39mself\u001b[39m, reduce_op, value):\n\u001b[1;32m   2297\u001b[0m   \u001b[39m# Default implementation until we have an implementation for each strategy.\u001b[39;00m\n\u001b[1;32m   2298\u001b[0m   dst \u001b[39m=\u001b[39m device_util\u001b[39m.\u001b[39mcurrent() \u001b[39mor\u001b[39;00m \u001b[39mself\u001b[39m\u001b[39m.\u001b[39m_default_device \u001b[39mor\u001b[39;00m \u001b[39m\"\u001b[39m\u001b[39m/device:CPU:0\u001b[39m\u001b[39m\"\u001b[39m\n\u001b[0;32m-> 2299\u001b[0m   \u001b[39mreturn\u001b[39;00m \u001b[39mself\u001b[39m\u001b[39m.\u001b[39m_local_results(\u001b[39mself\u001b[39;49m\u001b[39m.\u001b[39;49mreduce_to(reduce_op, value, dst))[\u001b[39m0\u001b[39m]\n",
      "File \u001b[0;32m~/anaconda3/envs/racooon/lib/python3.8/site-packages/tensorflow/python/distribute/distribute_lib.py:2384\u001b[0m, in \u001b[0;36mStrategyExtendedV2.reduce_to\u001b[0;34m(self, reduce_op, value, destinations, options)\u001b[0m\n\u001b[1;32m   2381\u001b[0m   reduce_op \u001b[39m=\u001b[39m reduce_util\u001b[39m.\u001b[39mReduceOp(reduce_op\u001b[39m.\u001b[39mupper())\n\u001b[1;32m   2382\u001b[0m \u001b[39massert\u001b[39;00m (reduce_op \u001b[39m==\u001b[39m reduce_util\u001b[39m.\u001b[39mReduceOp\u001b[39m.\u001b[39mSUM \u001b[39mor\u001b[39;00m\n\u001b[1;32m   2383\u001b[0m         reduce_op \u001b[39m==\u001b[39m reduce_util\u001b[39m.\u001b[39mReduceOp\u001b[39m.\u001b[39mMEAN)\n\u001b[0;32m-> 2384\u001b[0m \u001b[39mreturn\u001b[39;00m \u001b[39mself\u001b[39;49m\u001b[39m.\u001b[39;49m_reduce_to(reduce_op, value, destinations, options)\n",
      "File \u001b[0;32m~/anaconda3/envs/racooon/lib/python3.8/site-packages/tensorflow/python/distribute/mirrored_strategy.py:755\u001b[0m, in \u001b[0;36mMirroredExtended._reduce_to\u001b[0;34m(self, reduce_op, value, destinations, options)\u001b[0m\n\u001b[1;32m    747\u001b[0m     \u001b[39mreturn\u001b[39;00m cross_device_ops_lib\u001b[39m.\u001b[39mReductionToOneDevice()\u001b[39m.\u001b[39mreduce(\n\u001b[1;32m    748\u001b[0m         reduce_op, value, destinations)\n\u001b[1;32m    749\u001b[0m   \u001b[39mreturn\u001b[39;00m \u001b[39mself\u001b[39m\u001b[39m.\u001b[39m_get_cross_device_ops(value)\u001b[39m.\u001b[39mreduce(\n\u001b[1;32m    750\u001b[0m       reduce_op,\n\u001b[1;32m    751\u001b[0m       value,\n\u001b[1;32m    752\u001b[0m       destinations\u001b[39m=\u001b[39mdestinations,\n\u001b[1;32m    753\u001b[0m       options\u001b[39m=\u001b[39m\u001b[39mself\u001b[39m\u001b[39m.\u001b[39m_communication_options\u001b[39m.\u001b[39mmerge(options))\n\u001b[0;32m--> 755\u001b[0m \u001b[39mreturn\u001b[39;00m nest\u001b[39m.\u001b[39;49mmap_structure(get_values, value)\n",
      "File \u001b[0;32m~/anaconda3/envs/racooon/lib/python3.8/site-packages/tensorflow/python/util/nest.py:917\u001b[0m, in \u001b[0;36mmap_structure\u001b[0;34m(func, *structure, **kwargs)\u001b[0m\n\u001b[1;32m    913\u001b[0m flat_structure \u001b[39m=\u001b[39m (flatten(s, expand_composites) \u001b[39mfor\u001b[39;00m s \u001b[39min\u001b[39;00m structure)\n\u001b[1;32m    914\u001b[0m entries \u001b[39m=\u001b[39m \u001b[39mzip\u001b[39m(\u001b[39m*\u001b[39mflat_structure)\n\u001b[1;32m    916\u001b[0m \u001b[39mreturn\u001b[39;00m pack_sequence_as(\n\u001b[0;32m--> 917\u001b[0m     structure[\u001b[39m0\u001b[39m], [func(\u001b[39m*\u001b[39mx) \u001b[39mfor\u001b[39;00m x \u001b[39min\u001b[39;00m entries],\n\u001b[1;32m    918\u001b[0m     expand_composites\u001b[39m=\u001b[39mexpand_composites)\n",
      "File \u001b[0;32m~/anaconda3/envs/racooon/lib/python3.8/site-packages/tensorflow/python/util/nest.py:917\u001b[0m, in \u001b[0;36m<listcomp>\u001b[0;34m(.0)\u001b[0m\n\u001b[1;32m    913\u001b[0m flat_structure \u001b[39m=\u001b[39m (flatten(s, expand_composites) \u001b[39mfor\u001b[39;00m s \u001b[39min\u001b[39;00m structure)\n\u001b[1;32m    914\u001b[0m entries \u001b[39m=\u001b[39m \u001b[39mzip\u001b[39m(\u001b[39m*\u001b[39mflat_structure)\n\u001b[1;32m    916\u001b[0m \u001b[39mreturn\u001b[39;00m pack_sequence_as(\n\u001b[0;32m--> 917\u001b[0m     structure[\u001b[39m0\u001b[39m], [func(\u001b[39m*\u001b[39;49mx) \u001b[39mfor\u001b[39;00m x \u001b[39min\u001b[39;00m entries],\n\u001b[1;32m    918\u001b[0m     expand_composites\u001b[39m=\u001b[39mexpand_composites)\n",
      "File \u001b[0;32m~/anaconda3/envs/racooon/lib/python3.8/site-packages/tensorflow/python/distribute/mirrored_strategy.py:753\u001b[0m, in \u001b[0;36mMirroredExtended._reduce_to.<locals>.get_values\u001b[0;34m(value)\u001b[0m\n\u001b[1;32m    743\u001b[0m \u001b[39mif\u001b[39;00m \u001b[39mself\u001b[39m\u001b[39m.\u001b[39m_use_merge_call() \u001b[39mand\u001b[39;00m \u001b[39mself\u001b[39m\u001b[39m.\u001b[39m_collective_ops_in_use \u001b[39mand\u001b[39;00m ((\n\u001b[1;32m    744\u001b[0m     \u001b[39mnot\u001b[39;00m cross_device_ops_lib\u001b[39m.\u001b[39m_devices_match(value, destinations) \u001b[39mor\u001b[39;00m  \u001b[39m# pylint: disable=protected-access\u001b[39;00m\n\u001b[1;32m    745\u001b[0m     \u001b[39many\u001b[39m(\u001b[39m\"\u001b[39m\u001b[39mcpu\u001b[39m\u001b[39m\"\u001b[39m \u001b[39min\u001b[39;00m d\u001b[39m.\u001b[39mlower()\n\u001b[1;32m    746\u001b[0m         \u001b[39mfor\u001b[39;00m d \u001b[39min\u001b[39;00m cross_device_ops_lib\u001b[39m.\u001b[39mget_devices_from(destinations)))):\n\u001b[1;32m    747\u001b[0m   \u001b[39mreturn\u001b[39;00m cross_device_ops_lib\u001b[39m.\u001b[39mReductionToOneDevice()\u001b[39m.\u001b[39mreduce(\n\u001b[1;32m    748\u001b[0m       reduce_op, value, destinations)\n\u001b[1;32m    749\u001b[0m \u001b[39mreturn\u001b[39;00m \u001b[39mself\u001b[39m\u001b[39m.\u001b[39m_get_cross_device_ops(value)\u001b[39m.\u001b[39mreduce(\n\u001b[1;32m    750\u001b[0m     reduce_op,\n\u001b[1;32m    751\u001b[0m     value,\n\u001b[1;32m    752\u001b[0m     destinations\u001b[39m=\u001b[39mdestinations,\n\u001b[0;32m--> 753\u001b[0m     options\u001b[39m=\u001b[39m\u001b[39mself\u001b[39;49m\u001b[39m.\u001b[39;49m_communication_options\u001b[39m.\u001b[39;49mmerge(options))\n",
      "File \u001b[0;32m~/anaconda3/envs/racooon/lib/python3.8/site-packages/tensorflow/python/distribute/collective_util.py:151\u001b[0m, in \u001b[0;36mOptions.merge\u001b[0;34m(self, options)\u001b[0m\n\u001b[1;32m    139\u001b[0m \u001b[39mdef\u001b[39;00m \u001b[39mmerge\u001b[39m(\u001b[39mself\u001b[39m, options):\n\u001b[1;32m    140\u001b[0m   \u001b[39m\"\"\"Merges with another options and returns a new one.\u001b[39;00m\n\u001b[1;32m    141\u001b[0m \n\u001b[1;32m    142\u001b[0m \u001b[39m  Values specified in the `options` takes precedence if they're not the\u001b[39;00m\n\u001b[0;32m   (...)\u001b[0m\n\u001b[1;32m    149\u001b[0m \u001b[39m    A new `tf.distribute.experimental.CollectiveCommunication`.\u001b[39;00m\n\u001b[1;32m    150\u001b[0m \u001b[39m  \"\"\"\u001b[39;00m\n\u001b[0;32m--> 151\u001b[0m   merged \u001b[39m=\u001b[39m copy\u001b[39m.\u001b[39;49mdeepcopy(\u001b[39mself\u001b[39;49m)\n\u001b[1;32m    152\u001b[0m   \u001b[39mif\u001b[39;00m options \u001b[39mis\u001b[39;00m \u001b[39mNone\u001b[39;00m:\n\u001b[1;32m    153\u001b[0m     \u001b[39mreturn\u001b[39;00m merged\n",
      "File \u001b[0;32m~/anaconda3/envs/racooon/lib/python3.8/copy.py:172\u001b[0m, in \u001b[0;36mdeepcopy\u001b[0;34m(x, memo, _nil)\u001b[0m\n\u001b[1;32m    170\u001b[0m                 y \u001b[39m=\u001b[39m x\n\u001b[1;32m    171\u001b[0m             \u001b[39melse\u001b[39;00m:\n\u001b[0;32m--> 172\u001b[0m                 y \u001b[39m=\u001b[39m _reconstruct(x, memo, \u001b[39m*\u001b[39;49mrv)\n\u001b[1;32m    174\u001b[0m \u001b[39m# If is its own copy, don't memoize.\u001b[39;00m\n\u001b[1;32m    175\u001b[0m \u001b[39mif\u001b[39;00m y \u001b[39mis\u001b[39;00m \u001b[39mnot\u001b[39;00m x:\n",
      "File \u001b[0;32m~/anaconda3/envs/racooon/lib/python3.8/copy.py:284\u001b[0m, in \u001b[0;36m_reconstruct\u001b[0;34m(x, memo, func, args, state, listiter, dictiter, deepcopy)\u001b[0m\n\u001b[1;32m    281\u001b[0m             \u001b[39mfor\u001b[39;00m key, value \u001b[39min\u001b[39;00m slotstate\u001b[39m.\u001b[39mitems():\n\u001b[1;32m    282\u001b[0m                 \u001b[39msetattr\u001b[39m(y, key, value)\n\u001b[0;32m--> 284\u001b[0m \u001b[39mif\u001b[39;00m listiter \u001b[39mis\u001b[39;49;00m \u001b[39mnot\u001b[39;49;00m \u001b[39mNone\u001b[39;49;00m:\n\u001b[1;32m    285\u001b[0m     \u001b[39mif\u001b[39;00m deep:\n\u001b[1;32m    286\u001b[0m         \u001b[39mfor\u001b[39;00m item \u001b[39min\u001b[39;00m listiter:\n",
      "\u001b[0;31mKeyboardInterrupt\u001b[0m: "
     ]
    }
   ],
   "source": [
    "with tf.distribute.MirroredStrategy().scope():   \n",
    "    model = Sequential()\n",
    "    model.add(Input((sample_sec, sample_rate)))\n",
    "    model.add(Bidirectional(LSTM(1024 ,return_sequences= True)))\n",
    "    model.add(Activation(tanh))\n",
    "    model.add(Conv1D(512, 5,activation='relu'))\n",
    "    model.add(Bidirectional(CuDNNLSTM(512 ,return_sequences= True)))\n",
    "    model.add(Activation(tanh)) \n",
    "    model.add(BatchNormalization())\n",
    "    model.add(Conv1D(256, 5, activation='relu'))  \n",
    "    model.add(BatchNormalization())\n",
    "    model.add((Conv1D(128, 5, activation='relu')))\n",
    "    model.add(Dense(64, activation='relu'))\n",
    "    model.add(MaxPooling1D((2)))\n",
    "    model.add((Conv1DTranspose(64, 3)))\n",
    "    model.add(Activation(relu))\n",
    "    model.add(BatchNormalization())\n",
    "    model.add(Conv1DTranspose(128, 3, activation='relu'))\n",
    "    model.add(Conv1DTranspose(256, 3, activation='relu'))\n",
    "    model.add(Bidirectional(CuDNNLSTM(512,  return_sequences=True)))\n",
    "    \n",
    "    model.add(BatchNormalization())\n",
    "    model.add(Bidirectional(CuDNNLSTM(1024, return_sequences=True)))\n",
    "    model.add(Activation(tanh))\n",
    "    model.add(UpSampling1D(2))\n",
    "    model.add(TimeDistributed(Dense(sample_rate, activation='tanh')))\n",
    "    keras.utils.plot_model(model, show_shapes = True, to_file='mode2.png')\n",
    "    model.compile(optimizer = Adam(0.0001),\n",
    "                  loss = 'mae',\n",
    "                  metrics=  [metr])\n",
    "    history = model.fit(train,train, batch_size = 200, epochs = 2000)"
   ]
  },
  {
   "cell_type": "code",
   "execution_count": null,
   "metadata": {},
   "outputs": [],
   "source": [
    "with tf.distribute.MirroredStrategy().scope():\n",
    "    # mp3\n",
    "    mp3inputs = layers.Input((sample_rate))\n",
    "    mp3l1 = Dense(1024, activation='relu')(mp3inputs)\n",
    "    mp3l2 = Dense(512, activation='relu')(mp3l1)\n",
    "    mp3l3 = Dense(256, activation='relu')(mp3l2)\n",
    "    mp3bn = Dense(128, activation='relu')(mp3l3)\n",
    "    # midi\n",
    "    midiinputs = layers.Input(1)\n",
    "    midil1 = Dense(1, activation='relu')(midiinputs)\n",
    "    midil2 = Dense(10, activation='relu')(midil1)\n",
    "    midil3 = Dense(64, activation='relu')(midil2)\n",
    "    midibn = Dense(128, activation='relu')(midil3)\n",
    "    # BottleNeck-Attention\n",
    "    atten = Attention()([mp3bn, midibn])\n",
    "    dec1 = Dense(256, activation='relu')(atten)\n",
    "    dec2 = Dense(512, activation='relu')(dec1)\n",
    "    dec3 = Dense(1024, activation='relu')(dec2)\n",
    "    outputs = Dense(sample_rate, activation='relu')(dec3)\n",
    "    model = keras.Model(inputs = (mp3inputs, midiinputs), outputs = outputs)\n",
    "    keras.utils.plot_model(model,show_shapes=False, to_file='model1.png')"
   ]
  },
  {
   "cell_type": "code",
   "execution_count": null,
   "metadata": {},
   "outputs": [],
   "source": [
    "with tf.distribute.MirroredStrategy().scope():   \n",
    "    model = Sequential()\n",
    "    inputs = layers.Input((20, sample_rate))\n",
    "    l1 = CuDNNLSTM(1024, return_sequences = True )(inputs)\n",
    "    l2 = Conv1D(512, 3, activation = 'tanh')(l1)\n",
    "    l3 = Activation(tanh)(l2)\n",
    "    l4 = BatchNormalization()(l3)\n",
    "    l5 = CuDNNLSTM(256, return_sequences = True)(l4)\n",
    "    l6 = Activation(tanh)(l5)\n",
    "    l7 = Conv1D(128, 3, activation = 'tanh')(l6)\n",
    "    l8 = MaxPooling1D(4)(l7)\n",
    "    l9 = BatchNormalization()(l8)\n",
    "    l10 = Conv1D(64, 3, activation = 'tanh')(l9)\n",
    "    l11 = Dense(32, activation = 'tanh')(l10)\n",
    "    # att = Attention()([l1, l11])\n",
    "    l12 = Conv1DTranspose(64 ,3, activation = 'tanh')(l11)\n",
    "    l13 = UpSampling1D(4)(l12)\n",
    "    l14 = Conv1DTranspose(128 ,3, activation = 'tanh')(l13)\n",
    "    l15 = BatchNormalization()(l14)\n",
    "    l16 = Conv1DTranspose(256 ,3, activation = 'tanh')(l15)\n",
    "    l17 = CuDNNLSTM(512 , return_sequences = True)(l16)\n",
    "    att1 = Attention()([l2, l17])\n",
    "    l18 = BatchNormalization()(att1)\n",
    "    l19 = CuDNNLSTM(1024 , return_sequences = True)(l18)\n",
    "    att2 = Attention()([l1, l19])\n",
    "    l20 = Activation(tanh)(att2)\n",
    "    outputs = (Dense(sample_rate, ))(l20)\n",
    "\n",
    "    model = keras.Model(inputs = inputs, outputs = outputs)\n",
    "    # keras.utils.plot_model(model, show_shape = True, to_file='model.png')\n",
    "    metr = 'acc'\n",
    "    model.compile(optimizer = Adam(0.0001, ),\n",
    "                  loss = 'mse',\n",
    "                  metrics=  [metr])\n",
    "    history = model.fit(train, train, epochs = 1000, batch_size = 200)\n"
   ]
  },
  {
   "cell_type": "code",
   "execution_count": 26,
   "metadata": {},
   "outputs": [],
   "source": [
    "def plot_model(metr, show = True, save_path = None):\n",
    "    for seq in metr:\n",
    "        plt.plot( history.history[seq])\n",
    "    plt.title('Model Metrices')\n",
    "    plt.legend(metr)\n",
    "    plt.ylabel('Metrices')\n",
    "    plt.xlabel('Epoch')\n",
    "    # plt.legend(['Train', 'Test'], loc='upper left')\n",
    "    if show == True:\n",
    "        plt.show()\n",
    "    if save_path!=None:\n",
    "        plt.savefig(save_path+'mertices.png')\n",
    "    plt.plot(history.history['loss'])\n",
    "    plt.title('Model loss')\n",
    "    plt.ylabel('loss')\n",
    "    plt.xlabel('Epoch')\n",
    "    plt.legend(['Train', 'Test'], loc='upper left')\n",
    "    if show == True:\n",
    "        plt.show()\n",
    "    if save_path!=None:\n",
    "        plt.savefig(save_path+'loss.png')"
   ]
  },
  {
   "cell_type": "code",
   "execution_count": 59,
   "metadata": {},
   "outputs": [
    {
     "data": {
      "image/png": "[encoded data removed]",
      "text/plain": [
       "<Figure size 640x480 with 1 Axes>"
      ]
     },
     "metadata": {},
     "output_type": "display_data"
    },
    {
     "data": {
      "image/png": "[encoded data removed]",
      "text/plain": [
       "<Figure size 640x480 with 1 Axes>"
      ]
     },
     "metadata": {},
     "output_type": "display_data"
    }
   ],
   "source": [
    "plot_model(metr, True)"
   ]
  },
  {
   "cell_type": "code",
   "execution_count": 60,
   "metadata": {},
   "outputs": [
    {
     "name": "stdout",
     "output_type": "stream",
     "text": [
      "25/25 [==============================] - 8s 48ms/step\n"
     ]
    }
   ],
   "source": [
    "pre = model.predict(train)\n",
    "pre_res = np.reshape(pre, (pre.shape[0], sample_rate*20))\n",
    "ori = np.reshape(train, (pre.shape[0], sample_rate*20))\n",
    "# pre_res = scaler.inverse_transform(pre_res)"
   ]
  },
  {
   "cell_type": "code",
   "execution_count": 61,
   "metadata": {},
   "outputs": [
    {
     "data": {
      "text/plain": [
       "[<matplotlib.lines.Line2D at 0x7f3b002c9a30>]"
      ]
     },
     "execution_count": 61,
     "metadata": {},
     "output_type": "execute_result"
    },
    {
     "data": {
      "image/png": "[encoded data removed]",
      "text/plain": [
       "<Figure size 640x480 with 1 Axes>"
      ]
     },
     "metadata": {},
     "output_type": "display_data"
    }
   ],
   "source": [
    "plt.plot(pre_res[2])"
   ]
  },
  {
   "cell_type": "code",
   "execution_count": 15,
   "metadata": {},
   "outputs": [],
   "source": [
    "for num in range(10):\n",
    "    write(f'music_gener/music17-1{num}.wav', sample_rate, pre_res[num*50])\n",
    "    # write(f'music_gener/music17_ori_{num}.wav', sample_rate, ori[num*50])"
   ]
  },
  {
   "cell_type": "code",
   "execution_count": null,
   "metadata": {},
   "outputs": [],
   "source": [
    "# save all info\n",
    "model_list = os.listdir('/models')\n",
    "os.mkdir(f'/models/{model_list[-1]+1}')\n",
    "model.save(f'/models/{model_list[-1]+1}/model')\n",
    "np.save(f'/models/{model_list[-1]+1}/music_data.npy', pre_res)"
   ]
  },
  {
   "cell_type": "code",
   "execution_count": null,
   "metadata": {},
   "outputs": [],
   "source": []
  }
 ],
 "metadata": {
  "kernelspec": {
   "display_name": "Python 3.8.13 ('racooon')",
   "language": "python",
   "name": "python3"
  },
  "language_info": {
   "codemirror_mode": {
    "name": "ipython",
    "version": 3
   },
   "file_extension": ".py",
   "mimetype": "text/x-python",
   "name": "python",
   "nbconvert_exporter": "python",
   "pygments_lexer": "ipython3",
   "version": "3.8.13"
  },
  "orig_nbformat": 4,
  "vscode": {
   "interpreter": {
    "hash": "88e1d7e39c331154bf6b4918f09647f5b5443839004c2928b7b8c8bb7c9db727"
   }
  }
 },
 "nbformat": 4,
 "nbformat_minor": 2
}
